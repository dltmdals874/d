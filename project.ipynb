{
  "nbformat": 4,
  "nbformat_minor": 0,
  "metadata": {
    "colab": {
      "name": "project",
      "provenance": [],
      "collapsed_sections": [],
      "authorship_tag": "ABX9TyOExvUdBLirvfaV0eu4vwO1",
      "include_colab_link": true
    },
    "kernelspec": {
      "name": "python3",
      "display_name": "Python 3"
    },
    "language_info": {
      "name": "python"
    }
  },
  "cells": [
    {
      "cell_type": "markdown",
      "metadata": {
        "id": "view-in-github",
        "colab_type": "text"
      },
      "source": [
        "<a href=\"https://colab.research.google.com/github/dltmdals874/d/blob/main/project.ipynb\" target=\"_parent\"><img src=\"https://colab.research.google.com/assets/colab-badge.svg\" alt=\"Open In Colab\"/></a>"
      ]
    },
    {
      "cell_type": "code",
      "metadata": {
        "id": "pru3gasY1aFs"
      },
      "source": [
        "import pandas as pd\n",
        "import numpy as np\n",
        "import matplotlib.pyplot as plt"
      ],
      "execution_count": 2,
      "outputs": []
    },
    {
      "cell_type": "markdown",
      "metadata": {
        "id": "S2k4BJfMyvwh"
      },
      "source": [
        "# Project"
      ]
    },
    {
      "cell_type": "markdown",
      "metadata": {
        "id": "DPQmrnRO58Ak"
      },
      "source": [
        "**축구선수 호날두와 메시의 골 기록들을 불러오기 및 데이터확인한다**.\n"
      ]
    },
    {
      "cell_type": "code",
      "metadata": {
        "colab": {
          "base_uri": "https://localhost:8080/",
          "height": 424
        },
        "id": "xbiyiAJH1cG1",
        "outputId": "0b556c07-172a-43f8-a9b7-ede5ddfe29be"
      },
      "source": [
        "df = pd.read_csv('/content/cristiano_vs_messi.csv')\n",
        "df"
      ],
      "execution_count": 3,
      "outputs": [
        {
          "output_type": "execute_result",
          "data": {
            "text/html": [
              "<div>\n",
              "<style scoped>\n",
              "    .dataframe tbody tr th:only-of-type {\n",
              "        vertical-align: middle;\n",
              "    }\n",
              "\n",
              "    .dataframe tbody tr th {\n",
              "        vertical-align: top;\n",
              "    }\n",
              "\n",
              "    .dataframe thead th {\n",
              "        text-align: right;\n",
              "    }\n",
              "</style>\n",
              "<table border=\"1\" class=\"dataframe\">\n",
              "  <thead>\n",
              "    <tr style=\"text-align: right;\">\n",
              "      <th></th>\n",
              "      <th>player</th>\n",
              "      <th>comp</th>\n",
              "      <th>round</th>\n",
              "      <th>date</th>\n",
              "      <th>venue</th>\n",
              "      <th>opp</th>\n",
              "      <th>pos</th>\n",
              "      <th>min</th>\n",
              "      <th>type</th>\n",
              "      <th>assisted</th>\n",
              "    </tr>\n",
              "  </thead>\n",
              "  <tbody>\n",
              "    <tr>\n",
              "      <th>0</th>\n",
              "      <td>ronaldo</td>\n",
              "      <td>Liga NOS</td>\n",
              "      <td>6</td>\n",
              "      <td>10/7/2002</td>\n",
              "      <td>H</td>\n",
              "      <td>Moreirense</td>\n",
              "      <td>RW</td>\n",
              "      <td>34'</td>\n",
              "      <td>NaN</td>\n",
              "      <td>NaN</td>\n",
              "    </tr>\n",
              "    <tr>\n",
              "      <th>1</th>\n",
              "      <td>ronaldo</td>\n",
              "      <td>Liga NOS</td>\n",
              "      <td>6</td>\n",
              "      <td>10/7/2002</td>\n",
              "      <td>H</td>\n",
              "      <td>Moreirense</td>\n",
              "      <td>NaN</td>\n",
              "      <td>90'</td>\n",
              "      <td>NaN</td>\n",
              "      <td>NaN</td>\n",
              "    </tr>\n",
              "    <tr>\n",
              "      <th>2</th>\n",
              "      <td>ronaldo</td>\n",
              "      <td>Liga NOS</td>\n",
              "      <td>8</td>\n",
              "      <td>10/26/2002</td>\n",
              "      <td>A</td>\n",
              "      <td>Boavista</td>\n",
              "      <td>NaN</td>\n",
              "      <td>88'</td>\n",
              "      <td>NaN</td>\n",
              "      <td>Carlos Martins</td>\n",
              "    </tr>\n",
              "    <tr>\n",
              "      <th>3</th>\n",
              "      <td>ronaldo</td>\n",
              "      <td>Taça de Portugal Placard</td>\n",
              "      <td>Fourth Round</td>\n",
              "      <td>11/24/2002</td>\n",
              "      <td>H</td>\n",
              "      <td>Estarreja</td>\n",
              "      <td>NaN</td>\n",
              "      <td>67'</td>\n",
              "      <td>Left-footed shot</td>\n",
              "      <td>César Prates</td>\n",
              "    </tr>\n",
              "    <tr>\n",
              "      <th>4</th>\n",
              "      <td>ronaldo</td>\n",
              "      <td>Taça de Portugal Placard</td>\n",
              "      <td>Fifth Round</td>\n",
              "      <td>12/18/2002</td>\n",
              "      <td>H</td>\n",
              "      <td>Oliv. Hospital</td>\n",
              "      <td>NaN</td>\n",
              "      <td>13'</td>\n",
              "      <td>NaN</td>\n",
              "      <td>NaN</td>\n",
              "    </tr>\n",
              "    <tr>\n",
              "      <th>...</th>\n",
              "      <td>...</td>\n",
              "      <td>...</td>\n",
              "      <td>...</td>\n",
              "      <td>...</td>\n",
              "      <td>...</td>\n",
              "      <td>...</td>\n",
              "      <td>...</td>\n",
              "      <td>...</td>\n",
              "      <td>...</td>\n",
              "      <td>...</td>\n",
              "    </tr>\n",
              "    <tr>\n",
              "      <th>1295</th>\n",
              "      <td>messi</td>\n",
              "      <td>NaN</td>\n",
              "      <td>NaN</td>\n",
              "      <td>NaN</td>\n",
              "      <td>NaN</td>\n",
              "      <td>NaN</td>\n",
              "      <td>NaN</td>\n",
              "      <td>82'</td>\n",
              "      <td>Left-footed shot</td>\n",
              "      <td>Sergi Roberto</td>\n",
              "    </tr>\n",
              "    <tr>\n",
              "      <th>1296</th>\n",
              "      <td>messi</td>\n",
              "      <td>LaLiga</td>\n",
              "      <td>11</td>\n",
              "      <td>11/29/2020</td>\n",
              "      <td>H</td>\n",
              "      <td>CA Osasuna</td>\n",
              "      <td>RW</td>\n",
              "      <td>73'</td>\n",
              "      <td>Left-footed shot</td>\n",
              "      <td>Trincão</td>\n",
              "    </tr>\n",
              "    <tr>\n",
              "      <th>1297</th>\n",
              "      <td>messi</td>\n",
              "      <td>LaLiga</td>\n",
              "      <td>13</td>\n",
              "      <td>12/13/2020</td>\n",
              "      <td>H</td>\n",
              "      <td>Levante</td>\n",
              "      <td>CF</td>\n",
              "      <td>76'</td>\n",
              "      <td>Left-footed shot</td>\n",
              "      <td>Frenkie de Jong</td>\n",
              "    </tr>\n",
              "    <tr>\n",
              "      <th>1298</th>\n",
              "      <td>messi</td>\n",
              "      <td>LaLiga</td>\n",
              "      <td>14</td>\n",
              "      <td>12/19/2020</td>\n",
              "      <td>H</td>\n",
              "      <td>Valencia</td>\n",
              "      <td>CF</td>\n",
              "      <td>45'+4</td>\n",
              "      <td>Header</td>\n",
              "      <td>NaN</td>\n",
              "    </tr>\n",
              "    <tr>\n",
              "      <th>1299</th>\n",
              "      <td>messi</td>\n",
              "      <td>LaLiga</td>\n",
              "      <td>15</td>\n",
              "      <td>12/22/2020</td>\n",
              "      <td>A</td>\n",
              "      <td>Real Valladolid</td>\n",
              "      <td>SS</td>\n",
              "      <td>65'</td>\n",
              "      <td>Left-footed shot</td>\n",
              "      <td>Pedri</td>\n",
              "    </tr>\n",
              "  </tbody>\n",
              "</table>\n",
              "<p>1300 rows × 10 columns</p>\n",
              "</div>"
            ],
            "text/plain": [
              "       player                      comp  ...              type         assisted\n",
              "0     ronaldo                  Liga NOS  ...               NaN              NaN\n",
              "1     ronaldo                  Liga NOS  ...               NaN              NaN\n",
              "2     ronaldo                  Liga NOS  ...               NaN   Carlos Martins\n",
              "3     ronaldo  Taça de Portugal Placard  ...  Left-footed shot     César Prates\n",
              "4     ronaldo  Taça de Portugal Placard  ...               NaN              NaN\n",
              "...       ...                       ...  ...               ...              ...\n",
              "1295    messi                       NaN  ...  Left-footed shot    Sergi Roberto\n",
              "1296    messi                    LaLiga  ...  Left-footed shot          Trincão\n",
              "1297    messi                    LaLiga  ...  Left-footed shot  Frenkie de Jong\n",
              "1298    messi                    LaLiga  ...            Header              NaN\n",
              "1299    messi                    LaLiga  ...  Left-footed shot            Pedri\n",
              "\n",
              "[1300 rows x 10 columns]"
            ]
          },
          "metadata": {},
          "execution_count": 3
        }
      ]
    },
    {
      "cell_type": "code",
      "metadata": {
        "colab": {
          "base_uri": "https://localhost:8080/"
        },
        "id": "4vxIjVRIuxS6",
        "outputId": "7e44e564-06cf-4791-823e-a4e05c1ae588"
      },
      "source": [
        "df.columns"
      ],
      "execution_count": 4,
      "outputs": [
        {
          "output_type": "execute_result",
          "data": {
            "text/plain": [
              "Index(['player', 'comp', 'round', 'date', 'venue', 'opp', 'pos', 'min', 'type',\n",
              "       'assisted'],\n",
              "      dtype='object')"
            ]
          },
          "metadata": {},
          "execution_count": 4
        }
      ]
    },
    {
      "cell_type": "code",
      "metadata": {
        "colab": {
          "base_uri": "https://localhost:8080/"
        },
        "id": "yImeLUwJuomg",
        "outputId": "acb4e8e2-1284-4b09-a6f0-575ae7816ff6"
      },
      "source": [
        "df['player'].unique()"
      ],
      "execution_count": 5,
      "outputs": [
        {
          "output_type": "execute_result",
          "data": {
            "text/plain": [
              "array(['ronaldo', 'messi'], dtype=object)"
            ]
          },
          "metadata": {},
          "execution_count": 5
        }
      ]
    },
    {
      "cell_type": "code",
      "metadata": {
        "colab": {
          "base_uri": "https://localhost:8080/"
        },
        "id": "jsMcztqAutlj",
        "outputId": "b4c5ee77-8fbb-458c-97c0-2e3c63bf3f02"
      },
      "source": [
        "df['comp'].unique()"
      ],
      "execution_count": 6,
      "outputs": [
        {
          "output_type": "execute_result",
          "data": {
            "text/plain": [
              "array(['Liga NOS', 'Taça de Portugal Placard', 'Premier League', 'FA Cup',\n",
              "       'Champions League Qualifying', 'EFL Cup', nan, 'Champions League',\n",
              "       'Club World Cup', 'LaLiga', 'Copa del Rey', 'Supercopa',\n",
              "       'UEFA Super Cup', 'Serie A', 'Supercoppa Italiana', 'Coppa Italia'],\n",
              "      dtype=object)"
            ]
          },
          "metadata": {},
          "execution_count": 6
        }
      ]
    },
    {
      "cell_type": "code",
      "metadata": {
        "colab": {
          "base_uri": "https://localhost:8080/"
        },
        "id": "yjVzYz1kutea",
        "outputId": "fcd9bb1a-8fa0-48d5-b547-2300a2b1aff4"
      },
      "source": [
        "df['round'].unique()"
      ],
      "execution_count": 7,
      "outputs": [
        {
          "output_type": "execute_result",
          "data": {
            "text/plain": [
              "array(['6', '8', 'Fourth Round', 'Fifth Round', '11', '29', '32', '38',\n",
              "       'Final', '16', 'Third Round', '24', '25', 'Sixth Round', '30',\n",
              "       'Semi-Finals', '3rd round', 'Round of 16', '20', nan, '26', '28',\n",
              "       '1', '10', '15', '17', '19', '21', '23', '6th round',\n",
              "       'Quarter-Finals', '37', 'Group Stage', '9', '12', '13', '18', '22',\n",
              "       '27', 'last 16', '31', '33', '34', '36', '2', '3', '4', '35', '7',\n",
              "       '4th round', '14', 'final', '5', '5th round'], dtype=object)"
            ]
          },
          "metadata": {},
          "execution_count": 7
        }
      ]
    },
    {
      "cell_type": "code",
      "metadata": {
        "colab": {
          "base_uri": "https://localhost:8080/"
        },
        "id": "BVLlybE6utb6",
        "outputId": "7f988244-7ee4-4ae3-f27c-108808eb2b6e"
      },
      "source": [
        "df['venue'].unique()"
      ],
      "execution_count": 8,
      "outputs": [
        {
          "output_type": "execute_result",
          "data": {
            "text/plain": [
              "array(['H', 'A', nan], dtype=object)"
            ]
          },
          "metadata": {},
          "execution_count": 8
        }
      ]
    },
    {
      "cell_type": "code",
      "metadata": {
        "colab": {
          "base_uri": "https://localhost:8080/"
        },
        "id": "1FJNBTomutSd",
        "outputId": "78a4cd6d-09b2-4ff7-b6e3-323a73451aa9"
      },
      "source": [
        "df['opp'].unique()"
      ],
      "execution_count": 9,
      "outputs": [
        {
          "output_type": "execute_result",
          "data": {
            "text/plain": [
              "array(['Moreirense ', 'Boavista', 'Estarreja', 'Oliv. Hospital',\n",
              "       'Portsmouth\\xa0\\xa0', 'Man City', 'Spurs\\xa0\\xa0',\n",
              "       'Birmingham\\xa0\\xa0', 'Aston Villa\\xa0\\xa0', 'Millwall',\n",
              "       'Southampton\\xa0\\xa0', 'Exeter City', 'Arsenal\\xa0\\xa0', 'Everton',\n",
              "       'Southampton', 'Fulham\\xa0\\xa0', 'Newcastle', 'Debrecen',\n",
              "       'Middlesbrough\\xa0\\xa0', 'West Brom', 'Bolton\\xa0\\xa0', nan,\n",
              "       'Wigan', 'Wigan\\xa0\\xa0', 'Charlton\\xa0\\xa0', 'Reading\\xa0\\xa0',\n",
              "       'Everton\\xa0\\xa0', 'Man City\\xa0\\xa0', 'Watford\\xa0\\xa0',\n",
              "       'Middlesbrough', 'AS Roma', 'Watford', 'AC Milan', 'Sporting CP',\n",
              "       'Dynamo Kyiv', 'Blackburn\\xa0\\xa0', 'Derby\\xa0\\xa0',\n",
              "       'Sunderland\\xa0\\xa0', 'West Ham\\xa0\\xa0', 'Aston Villa',\n",
              "       'Newcastle\\xa0\\xa0', 'Spurs', 'Olympique Lyon',\n",
              "       'Liverpool\\xa0\\xa0', 'Chelsea', 'West Brom\\xa0\\xa0',\n",
              "       'Hull City\\xa0\\xa0', 'Stoke City\\xa0\\xa0', 'Gamba Osaka', 'Derby',\n",
              "       'Inter', 'FC Porto', 'Arsenal', 'Dep. La Coruña\\xa0\\xa0',\n",
              "       'Espanyol\\xa0\\xa0', 'FC Zürich', 'Xerez CD\\xa0\\xa0',\n",
              "       'Villarreal\\xa0\\xa0', 'Marseille', 'UD Almería\\xa0\\xa0',\n",
              "       'Real Zaragoza\\xa0\\xa0', 'Málaga CF\\xa0\\xa0',\n",
              "       'CD Tenerife\\xa0\\xa0', 'Sevilla FC\\xa0\\xa0',\n",
              "       'Real Valladolid\\xa0\\xa0', 'Getafe\\xa0\\xa0', 'Racing\\xa0\\xa0',\n",
              "       'Valencia\\xa0\\xa0', 'CA Osasuna\\xa0\\xa0', 'RCD Mallorca\\xa0\\xa0',\n",
              "       'Athletic\\xa0\\xa0', 'Hércules CF\\xa0\\xa0', 'Real Murcia', 'Ajax',\n",
              "       'AJ Auxerre', 'Levante', 'Atlético Madrid',\n",
              "       'Real Sociedad\\xa0\\xa0', 'FC Barcelona\\xa0\\xa0', 'FC Barcelona',\n",
              "       'Rayo Vallecano\\xa0\\xa0', 'Atlético Madrid\\xa0\\xa0',\n",
              "       'Sporting Gijón\\xa0\\xa0', 'Ponferradina', 'Granada CF\\xa0\\xa0',\n",
              "       'Levante\\xa0\\xa0', 'CSKA Moscow', 'Real Betis\\xa0\\xa0',\n",
              "       'APOEL Nicosia', 'Bayern Munich ', 'Celta de Vigo\\xa0\\xa0',\n",
              "       'Bor. Dortmund', 'Celta de Vigo', 'Man Utd', 'Galatasaray',\n",
              "       'Elche CF\\xa0\\xa0', 'FC Copenhagen', 'Juventus', 'CA Osasuna',\n",
              "       'FC Schalke 04', 'Sevilla FC', 'Córdoba CF\\xa0\\xa0', 'FC Basel',\n",
              "       'Ludogorets', 'Liverpool', 'SD Eibar\\xa0\\xa0', 'Shakhtar D.',\n",
              "       'Malmö FF', 'UD Las Palmas\\xa0\\xa0', 'VfL Wolfsburg',\n",
              "       'Alavés\\xa0\\xa0', 'América', 'Kashima Antlers', 'Al-Jazira',\n",
              "       'Grêmio', 'Paris SG', 'Girona\\xa0\\xa0', 'Sassuolo\\xa0\\xa0',\n",
              "       'Frosinone\\xa0\\xa0', 'Udinese Calcio\\xa0\\xa0', 'Genoa\\xa0\\xa0',\n",
              "       'FC Empoli\\xa0\\xa0', 'AC Milan\\xa0\\xa0', 'SPAL\\xa0\\xa0',\n",
              "       'Fiorentina\\xa0\\xa0', 'Torino\\xa0\\xa0', 'Atalanta\\xa0\\xa0',\n",
              "       'Sampdoria\\xa0\\xa0', 'Lazio\\xa0\\xa0', 'Parma\\xa0\\xa0',\n",
              "       'Inter\\xa0\\xa0', 'SSC Napoli\\xa0\\xa0', 'Hellas Verona\\xa0\\xa0',\n",
              "       'Bay. Leverkusen', 'Bologna\\xa0\\xa0', 'Cagliari Calcio\\xa0\\xa0',\n",
              "       'AS Roma\\xa0\\xa0', 'Lecce\\xa0\\xa0', 'Spezia Calcio\\xa0\\xa0',\n",
              "       'Ferencváros', 'Albacete\\xa0\\xa0', 'Panathinaikos',\n",
              "       'Real Zaragoza', 'Werder Bremen', 'Real Madrid\\xa0\\xa0',\n",
              "       'Recr. Huelva\\xa0\\xa0', 'Getafe', 'Gimnàstic\\xa0\\xa0',\n",
              "       'VfB Stuttgart', 'Rangers', 'Celtic', 'Benidorm CF',\n",
              "       'CD Numancia\\xa0\\xa0', 'RCD Mallorca', 'Athletic', 'CyD Leonesa',\n",
              "       'Atlante', 'Estudiantes', 'AD Ceuta ', 'Real Betis', 'UD Almería',\n",
              "       'Real Madrid', 'BATE Borisov', 'Viktoria Plzen', 'Santos FC',\n",
              "       'Spartak Moscow', 'Córdoba CF', 'Málaga CF', 'Real Sociedad',\n",
              "       'Elche CF', 'Villarreal', 'River Plate', 'Espanyol', 'Valencia',\n",
              "       'CD Leganés\\xa0\\xa0', \"Bor. M'gladbach\", 'Alavés', 'Olympiacos',\n",
              "       'SD Huesca\\xa0\\xa0', 'PSV Eindhoven', 'Slavia Prague',\n",
              "       'CD Leganés', 'SSC Napoli'], dtype=object)"
            ]
          },
          "metadata": {},
          "execution_count": 9
        }
      ]
    },
    {
      "cell_type": "code",
      "metadata": {
        "colab": {
          "base_uri": "https://localhost:8080/"
        },
        "id": "e-aHuv-ButHs",
        "outputId": "52eca2a0-f659-4700-cc39-0ec9b9c0a2ff"
      },
      "source": [
        "df['pos'].unique()"
      ],
      "execution_count": 10,
      "outputs": [
        {
          "output_type": "execute_result",
          "data": {
            "text/plain": [
              "array(['RW', nan, 'CF', 'LW', 'LW\\xa0', 'CF\\xa0', 'AM', 'RW\\xa0',\n",
              "       'AM\\xa0', 'SS', 'SS\\xa0'], dtype=object)"
            ]
          },
          "metadata": {},
          "execution_count": 10
        }
      ]
    },
    {
      "cell_type": "code",
      "metadata": {
        "colab": {
          "base_uri": "https://localhost:8080/"
        },
        "id": "BH2-eoX3vEx4",
        "outputId": "c6e28843-f3c1-44e9-ac32-08f9ca6497fa"
      },
      "source": [
        "df['min'].unique()"
      ],
      "execution_count": 11,
      "outputs": [
        {
          "output_type": "execute_result",
          "data": {
            "text/plain": [
              "array([\"34'\", \"90'\", \"88'\", \"67'\", \"13'\", \"80'\", \"74'\", \"89'\", \"60'\",\n",
              "       \"4'\", \"44'\", \"87'\", \"9'\", \"8'\", \"54'\", \"58'\", \"45'+1\", \"21'\",\n",
              "       \"76'\", \"63'\", \"12'\", \"68'\", \"14'\", \"38'\", \"45'\", \"59'\", \"23'\",\n",
              "       \"19'\", \"73'\", \"82'\", \"10'\", \"39'\", \"84'\", \"85'\", \"47'\", \"50'\",\n",
              "       \"77'\", \"49'\", \"28'\", \"5'\", \"62'\", \"51'\", \"41'\", \"35'\", \"90'+3\",\n",
              "       \"22'\", \"81'\", \"48'\", \"70'\", \"90'+2\", \"69'\", \"56'\", \"79'\", \"16'\",\n",
              "       \"53'\", \"3'\", \"24'\", \"32'\", \"26'\", \"25'\", \"30'\", \"43'\", \"65'\",\n",
              "       \"11'\", \"6'\", \"57'\", \"61'\", \"17'\", \"27'\", \"1'\", \"75'\", \"2'\", \"64'\",\n",
              "       \"71'\", \"18'\", \"78'\", \"29'\", \"36'\", \"15'\", \"55'\", \"86'\", \"90'+1\",\n",
              "       \"72'\", \"20'\", \"42'\", \"103'\", \"46'\", \"52'\", \"90'+4\", \"37'\", \"66'\",\n",
              "       \"90'+6\", \"31'\", \"40'\", \"120'\", \"83'\", \"7'\", \"33'\", \"97'\", \"104'\",\n",
              "       \"105'\", \"109'\", \"90'+7\", \"45'+7\", \"110'\", \"45'+2\", \"45'+4\"],\n",
              "      dtype=object)"
            ]
          },
          "metadata": {},
          "execution_count": 11
        }
      ]
    },
    {
      "cell_type": "code",
      "metadata": {
        "colab": {
          "base_uri": "https://localhost:8080/"
        },
        "id": "IZWzayk_vGvp",
        "outputId": "ad57e62e-ed2d-47fd-e3ba-c99bf2bd2e6b"
      },
      "source": [
        "df['type'].unique()"
      ],
      "execution_count": 12,
      "outputs": [
        {
          "output_type": "execute_result",
          "data": {
            "text/plain": [
              "array([nan, 'Left-footed shot', 'Right-footed shot', 'Tap-in', 'Header',\n",
              "       'Penalty', 'Direct free kick', 'Penalty rebound', 'Solo run',\n",
              "       'Long distance kick', 'Counter attack goal',\n",
              "       'Deflected shot on goal', 'Chest'], dtype=object)"
            ]
          },
          "metadata": {},
          "execution_count": 12
        }
      ]
    },
    {
      "cell_type": "code",
      "metadata": {
        "colab": {
          "base_uri": "https://localhost:8080/"
        },
        "id": "-Qe4o9VZvJI0",
        "outputId": "014c688f-d602-47a7-8888-6d1ed15ca675"
      },
      "source": [
        "df['assisted'].unique()"
      ],
      "execution_count": 13,
      "outputs": [
        {
          "output_type": "execute_result",
          "data": {
            "text/plain": [
              "array([nan, 'Carlos Martins', 'César Prates', 'Ryan Giggs',\n",
              "       'Gary Neville', 'Paul Scholes', 'Louis Saha',\n",
              "       'Ruud van Nistelrooy', 'Roy Keane', 'Wayne Rooney', \"John O'Shea\",\n",
              "       'Ji-sung Park', 'Ole Gunnar Solskjaer', 'Michael Carrick',\n",
              "       'Wes Brown', 'Patrice Evra', 'Carlos Tevez', 'Nemanja Vidic?',\n",
              "       'Nani', 'Edwin van der Sar', 'Owen Hargreaves', 'Dimitar Berbatov',\n",
              "       'Anderson', 'Guti', 'Esteban Granero', 'Pepe', 'Karim Benzema',\n",
              "       'Gonzalo Higuaín', 'Lassana Diarra', 'Ezequiel Garay', 'Kaká',\n",
              "       'Marcelo', 'Sergio Ramos', 'Mesut Özil', 'Xabi Alonso',\n",
              "       'Ángel Di María', 'Sergio Canales', 'Sami Khedira',\n",
              "       'Álvaro Arbeloa', 'Fábio Coentrão', 'José Callejón', 'Luka Modric',\n",
              "       'Isco', 'Gareth Bale', 'Daniel Carvajal', 'James Rodríguez',\n",
              "       'Toni Kroos', 'Chicharito', 'Lucas Vázquez', 'Danilo', 'Jesé',\n",
              "       'Álvaro Morata', 'Nacho Fernández', 'Mateo Kovacic',\n",
              "       'Marco Asensio', 'Casemiro', 'Borja Mayoral', 'Emre Can',\n",
              "       'Mario Mandzukic', 'Blaise Matuidi', 'Leonardo Bonucci',\n",
              "       'Miralem Pjanic', 'Giorgio Chiellini', 'Paulo Dybala',\n",
              "       'Federico Bernardeschi', 'João Cancelo', 'Leonardo Spinazzola',\n",
              "       'Douglas Costa', 'Rodrigo Bentancur', 'Alex Sandro',\n",
              "       'Juan Cuadrado', 'Aaron Ramsey', 'Merih Demiral', 'Ronaldinho',\n",
              "       \"Samuel Eto'o\", 'Mark van Bommel', 'Sylvinho', 'Ludovic Giuly',\n",
              "       'Andrés Iniesta', 'Deco', 'Xavi', 'Giovanni van Bronckhorst',\n",
              "       'Gianluca Zambrotta', 'Thierry Henry', 'Bojan Krkic', 'Dani Alves',\n",
              "       'Aleksandr Hleb', 'Gerard Piqué', 'Zlatan Ibrahimovic', 'Pedro',\n",
              "       'Éric Abidal', 'Yaya Touré', 'Seydou Keita', 'Maxwell',\n",
              "       'David Villa', 'Thiago', 'Adriano', 'Ibrahim Afellay',\n",
              "       'Sergio Busquets', 'Cesc Fàbregas', 'Alexis Sánchez',\n",
              "       'Isaac Cuenca', 'Cristian Tello', 'Jordi Alba', 'Martín Montoya',\n",
              "       'Neymar', 'Alex Song', 'Antonio Amaya', 'Marc Bartra', 'Rafinha',\n",
              "       'Luis Suárez', 'Ivan Rakitic', 'Arda Turan', 'Munir El Haddadi',\n",
              "       'Lucas Digne', 'Sergi Roberto', 'Javier Mascherano',\n",
              "       'Paco Alcácer', 'Paulinho', 'Aleix Vidal', 'Denis Suárez',\n",
              "       'Ousmane Dembélé', 'Philippe Coutinho', 'Arturo Vidal',\n",
              "       'Nélson Semedo', 'Malcom', 'Clément Lenglet', 'Antoine Griezmann',\n",
              "       'Arthur', 'Frenkie de Jong', 'Riqui Puig', 'Trincão', 'Pedri'],\n",
              "      dtype=object)"
            ]
          },
          "metadata": {},
          "execution_count": 13
        }
      ]
    },
    {
      "cell_type": "markdown",
      "metadata": {
        "id": "RyAlFcsly7rm"
      },
      "source": [
        "# 데이터확인 및 수정"
      ]
    },
    {
      "cell_type": "markdown",
      "metadata": {
        "id": "hDBRWagj6TdD"
      },
      "source": [
        "**데이터에 NULL값을 확인하고 NULL값을 수정한다.**"
      ]
    },
    {
      "cell_type": "code",
      "metadata": {
        "colab": {
          "base_uri": "https://localhost:8080/"
        },
        "id": "MMh2YBXp2lhB",
        "outputId": "3c2ecfea-15a2-4997-af09-c2a931f156d9"
      },
      "source": [
        "df.isnull().sum()"
      ],
      "execution_count": 14,
      "outputs": [
        {
          "output_type": "execute_result",
          "data": {
            "text/plain": [
              "player        0\n",
              "comp        454\n",
              "round       454\n",
              "date        454\n",
              "venue       454\n",
              "opp         454\n",
              "pos         507\n",
              "min           0\n",
              "type         19\n",
              "assisted    426\n",
              "dtype: int64"
            ]
          },
          "metadata": {},
          "execution_count": 14
        }
      ]
    },
    {
      "cell_type": "markdown",
      "metadata": {
        "id": "rTzlHO9MvcCJ"
      },
      "source": [
        "**플레이어 열의 값 타이틀로 전환**"
      ]
    },
    {
      "cell_type": "code",
      "metadata": {
        "id": "CMVOoiUo4mRN"
      },
      "source": [
        "df_clean = df.copy()\n",
        "df_clean['player'] = df_clean['player'].str.title()"
      ],
      "execution_count": 15,
      "outputs": []
    },
    {
      "cell_type": "markdown",
      "metadata": {
        "id": "0Un8DU85v5Xn"
      },
      "source": [
        "**포지션과 상대팀열의 데이터값에 붙은 쓰레기 값을 지운다.**"
      ]
    },
    {
      "cell_type": "code",
      "metadata": {
        "id": "LG3gHGTO4-sl"
      },
      "source": [
        "if len(df_clean.pos) > 2:\n",
        "    df_clean.pos = df_clean.pos.str[0:2]\n",
        "df_clean.opp = df_clean.opp.str.replace('\\xa0\\xa0','')"
      ],
      "execution_count": 16,
      "outputs": []
    },
    {
      "cell_type": "markdown",
      "metadata": {
        "id": "HJ7jEL9wwLea"
      },
      "source": [
        "**min열에서 '과 추가시간을 지운다**"
      ]
    },
    {
      "cell_type": "code",
      "metadata": {
        "id": "6c18lmMR5S1n"
      },
      "source": [
        "df_clean['min']=df_clean['min'].apply(lambda x:x.replace(\"'\",''))\n",
        "df_clean['min']=df_clean['min'].apply(lambda x:x.replace(\"+\",''))"
      ],
      "execution_count": 17,
      "outputs": []
    },
    {
      "cell_type": "markdown",
      "metadata": {
        "id": "coySFRizw5W0"
      },
      "source": [
        "**라운드 열에서 final과 Final은 같은 것이므로 통일해준다.**"
      ]
    },
    {
      "cell_type": "code",
      "metadata": {
        "id": "__jomIR25cGX"
      },
      "source": [
        "df_clean['round']=df_clean['round'].replace('final','Final')"
      ],
      "execution_count": 18,
      "outputs": []
    },
    {
      "cell_type": "markdown",
      "metadata": {
        "id": "bPx0_dX1xL8s"
      },
      "source": [
        "**pandas의 fillna 메소드를 사용해서 나머지 nan값을 채운다.**"
      ]
    },
    {
      "cell_type": "code",
      "metadata": {
        "id": "ACQjp6kL5gx1"
      },
      "source": [
        "columns =['comp', 'round', 'date', 'venue', 'opp', 'pos']\n",
        "for x in columns:\n",
        "    df_clean[x]=df_clean[x].fillna(method='ffill')"
      ],
      "execution_count": 19,
      "outputs": []
    },
    {
      "cell_type": "markdown",
      "metadata": {
        "id": "GcHIx2DdxtSo"
      },
      "source": [
        "**타입과 어시시트 열의 nan값들은 노어시스트, 솔로로 채운다.**"
      ]
    },
    {
      "cell_type": "code",
      "metadata": {
        "id": "UDv19CP85qTO"
      },
      "source": [
        "df_clean.assisted = df_clean.assisted.fillna('No Assist')\n",
        "df_clean.type = df_clean.type.fillna('Solo')"
      ],
      "execution_count": 20,
      "outputs": []
    },
    {
      "cell_type": "code",
      "metadata": {
        "colab": {
          "base_uri": "https://localhost:8080/"
        },
        "id": "rv58531Q5tUl",
        "outputId": "4aeafec8-3bce-4a2a-93d8-1151cb971704"
      },
      "source": [
        "df_clean.isnull().sum()"
      ],
      "execution_count": 21,
      "outputs": [
        {
          "output_type": "execute_result",
          "data": {
            "text/plain": [
              "player      0\n",
              "comp        0\n",
              "round       0\n",
              "date        0\n",
              "venue       0\n",
              "opp         0\n",
              "pos         0\n",
              "min         0\n",
              "type        0\n",
              "assisted    0\n",
              "dtype: int64"
            ]
          },
          "metadata": {},
          "execution_count": 21
        }
      ]
    },
    {
      "cell_type": "markdown",
      "metadata": {
        "id": "cSbnYGZ4yBXB"
      },
      "source": [
        "**player, pos, venue를 Categorical로 바꾸고 date열의 값들을 datetime으로 바꿔준다.**"
      ]
    },
    {
      "cell_type": "code",
      "metadata": {
        "id": "8tA5gQP-N2Q-"
      },
      "source": [
        "df_clean.player = df_clean.player.astype('category')\n",
        "df_clean.pos = df_clean.pos.astype('category')\n",
        "df_clean.venue = df_clean.venue.astype('category')\n",
        "df_clean.date = pd.to_datetime(df_clean.date)"
      ],
      "execution_count": 22,
      "outputs": []
    },
    {
      "cell_type": "markdown",
      "metadata": {
        "id": "J0A3RVY9Df44"
      },
      "source": [
        "**date열에서 year만 추출하여 새로운 열을 만들어준다.**"
      ]
    },
    {
      "cell_type": "code",
      "metadata": {
        "id": "C-rz6XY7DhIk"
      },
      "source": [
        "df_clean['Year'] = df_clean.date.dt.year"
      ],
      "execution_count": 23,
      "outputs": []
    },
    {
      "cell_type": "markdown",
      "metadata": {
        "id": "L9QalqxjyjKD"
      },
      "source": [
        "**정돈된 데이터를 확인한다.**"
      ]
    },
    {
      "cell_type": "code",
      "metadata": {
        "colab": {
          "base_uri": "https://localhost:8080/",
          "height": 424
        },
        "id": "I-jtEMzJyoBs",
        "outputId": "e9a3b003-9d04-4248-bde2-66f263f6e7e5"
      },
      "source": [
        "df_clean"
      ],
      "execution_count": 24,
      "outputs": [
        {
          "output_type": "execute_result",
          "data": {
            "text/html": [
              "<div>\n",
              "<style scoped>\n",
              "    .dataframe tbody tr th:only-of-type {\n",
              "        vertical-align: middle;\n",
              "    }\n",
              "\n",
              "    .dataframe tbody tr th {\n",
              "        vertical-align: top;\n",
              "    }\n",
              "\n",
              "    .dataframe thead th {\n",
              "        text-align: right;\n",
              "    }\n",
              "</style>\n",
              "<table border=\"1\" class=\"dataframe\">\n",
              "  <thead>\n",
              "    <tr style=\"text-align: right;\">\n",
              "      <th></th>\n",
              "      <th>player</th>\n",
              "      <th>comp</th>\n",
              "      <th>round</th>\n",
              "      <th>date</th>\n",
              "      <th>venue</th>\n",
              "      <th>opp</th>\n",
              "      <th>pos</th>\n",
              "      <th>min</th>\n",
              "      <th>type</th>\n",
              "      <th>assisted</th>\n",
              "      <th>Year</th>\n",
              "    </tr>\n",
              "  </thead>\n",
              "  <tbody>\n",
              "    <tr>\n",
              "      <th>0</th>\n",
              "      <td>Ronaldo</td>\n",
              "      <td>Liga NOS</td>\n",
              "      <td>6</td>\n",
              "      <td>2002-10-07</td>\n",
              "      <td>H</td>\n",
              "      <td>Moreirense</td>\n",
              "      <td>RW</td>\n",
              "      <td>34</td>\n",
              "      <td>Solo</td>\n",
              "      <td>No Assist</td>\n",
              "      <td>2002</td>\n",
              "    </tr>\n",
              "    <tr>\n",
              "      <th>1</th>\n",
              "      <td>Ronaldo</td>\n",
              "      <td>Liga NOS</td>\n",
              "      <td>6</td>\n",
              "      <td>2002-10-07</td>\n",
              "      <td>H</td>\n",
              "      <td>Moreirense</td>\n",
              "      <td>RW</td>\n",
              "      <td>90</td>\n",
              "      <td>Solo</td>\n",
              "      <td>No Assist</td>\n",
              "      <td>2002</td>\n",
              "    </tr>\n",
              "    <tr>\n",
              "      <th>2</th>\n",
              "      <td>Ronaldo</td>\n",
              "      <td>Liga NOS</td>\n",
              "      <td>8</td>\n",
              "      <td>2002-10-26</td>\n",
              "      <td>A</td>\n",
              "      <td>Boavista</td>\n",
              "      <td>RW</td>\n",
              "      <td>88</td>\n",
              "      <td>Solo</td>\n",
              "      <td>Carlos Martins</td>\n",
              "      <td>2002</td>\n",
              "    </tr>\n",
              "    <tr>\n",
              "      <th>3</th>\n",
              "      <td>Ronaldo</td>\n",
              "      <td>Taça de Portugal Placard</td>\n",
              "      <td>Fourth Round</td>\n",
              "      <td>2002-11-24</td>\n",
              "      <td>H</td>\n",
              "      <td>Estarreja</td>\n",
              "      <td>RW</td>\n",
              "      <td>67</td>\n",
              "      <td>Left-footed shot</td>\n",
              "      <td>César Prates</td>\n",
              "      <td>2002</td>\n",
              "    </tr>\n",
              "    <tr>\n",
              "      <th>4</th>\n",
              "      <td>Ronaldo</td>\n",
              "      <td>Taça de Portugal Placard</td>\n",
              "      <td>Fifth Round</td>\n",
              "      <td>2002-12-18</td>\n",
              "      <td>H</td>\n",
              "      <td>Oliv. Hospital</td>\n",
              "      <td>RW</td>\n",
              "      <td>13</td>\n",
              "      <td>Solo</td>\n",
              "      <td>No Assist</td>\n",
              "      <td>2002</td>\n",
              "    </tr>\n",
              "    <tr>\n",
              "      <th>...</th>\n",
              "      <td>...</td>\n",
              "      <td>...</td>\n",
              "      <td>...</td>\n",
              "      <td>...</td>\n",
              "      <td>...</td>\n",
              "      <td>...</td>\n",
              "      <td>...</td>\n",
              "      <td>...</td>\n",
              "      <td>...</td>\n",
              "      <td>...</td>\n",
              "      <td>...</td>\n",
              "    </tr>\n",
              "    <tr>\n",
              "      <th>1295</th>\n",
              "      <td>Messi</td>\n",
              "      <td>LaLiga</td>\n",
              "      <td>9</td>\n",
              "      <td>2020-11-07</td>\n",
              "      <td>H</td>\n",
              "      <td>Real Betis</td>\n",
              "      <td>SS</td>\n",
              "      <td>82</td>\n",
              "      <td>Left-footed shot</td>\n",
              "      <td>Sergi Roberto</td>\n",
              "      <td>2020</td>\n",
              "    </tr>\n",
              "    <tr>\n",
              "      <th>1296</th>\n",
              "      <td>Messi</td>\n",
              "      <td>LaLiga</td>\n",
              "      <td>11</td>\n",
              "      <td>2020-11-29</td>\n",
              "      <td>H</td>\n",
              "      <td>CA Osasuna</td>\n",
              "      <td>RW</td>\n",
              "      <td>73</td>\n",
              "      <td>Left-footed shot</td>\n",
              "      <td>Trincão</td>\n",
              "      <td>2020</td>\n",
              "    </tr>\n",
              "    <tr>\n",
              "      <th>1297</th>\n",
              "      <td>Messi</td>\n",
              "      <td>LaLiga</td>\n",
              "      <td>13</td>\n",
              "      <td>2020-12-13</td>\n",
              "      <td>H</td>\n",
              "      <td>Levante</td>\n",
              "      <td>CF</td>\n",
              "      <td>76</td>\n",
              "      <td>Left-footed shot</td>\n",
              "      <td>Frenkie de Jong</td>\n",
              "      <td>2020</td>\n",
              "    </tr>\n",
              "    <tr>\n",
              "      <th>1298</th>\n",
              "      <td>Messi</td>\n",
              "      <td>LaLiga</td>\n",
              "      <td>14</td>\n",
              "      <td>2020-12-19</td>\n",
              "      <td>H</td>\n",
              "      <td>Valencia</td>\n",
              "      <td>CF</td>\n",
              "      <td>454</td>\n",
              "      <td>Header</td>\n",
              "      <td>No Assist</td>\n",
              "      <td>2020</td>\n",
              "    </tr>\n",
              "    <tr>\n",
              "      <th>1299</th>\n",
              "      <td>Messi</td>\n",
              "      <td>LaLiga</td>\n",
              "      <td>15</td>\n",
              "      <td>2020-12-22</td>\n",
              "      <td>A</td>\n",
              "      <td>Real Valladolid</td>\n",
              "      <td>SS</td>\n",
              "      <td>65</td>\n",
              "      <td>Left-footed shot</td>\n",
              "      <td>Pedri</td>\n",
              "      <td>2020</td>\n",
              "    </tr>\n",
              "  </tbody>\n",
              "</table>\n",
              "<p>1300 rows × 11 columns</p>\n",
              "</div>"
            ],
            "text/plain": [
              "       player                      comp  ...         assisted  Year\n",
              "0     Ronaldo                  Liga NOS  ...        No Assist  2002\n",
              "1     Ronaldo                  Liga NOS  ...        No Assist  2002\n",
              "2     Ronaldo                  Liga NOS  ...   Carlos Martins  2002\n",
              "3     Ronaldo  Taça de Portugal Placard  ...     César Prates  2002\n",
              "4     Ronaldo  Taça de Portugal Placard  ...        No Assist  2002\n",
              "...       ...                       ...  ...              ...   ...\n",
              "1295    Messi                    LaLiga  ...    Sergi Roberto  2020\n",
              "1296    Messi                    LaLiga  ...          Trincão  2020\n",
              "1297    Messi                    LaLiga  ...  Frenkie de Jong  2020\n",
              "1298    Messi                    LaLiga  ...        No Assist  2020\n",
              "1299    Messi                    LaLiga  ...            Pedri  2020\n",
              "\n",
              "[1300 rows x 11 columns]"
            ]
          },
          "metadata": {},
          "execution_count": 24
        }
      ]
    },
    {
      "cell_type": "markdown",
      "metadata": {
        "id": "kdqJ4QOiEJqo"
      },
      "source": [
        "# 기록 비교"
      ]
    },
    {
      "cell_type": "markdown",
      "metadata": {
        "id": "v0sZ9yaKuX_Q"
      },
      "source": [
        "**총 넣은 골 수 확인**"
      ]
    },
    {
      "cell_type": "code",
      "metadata": {
        "colab": {
          "base_uri": "https://localhost:8080/"
        },
        "id": "yi9gYpDMuRCB",
        "outputId": "a3ad570e-055c-4509-cbc6-bf0d703af6b6"
      },
      "source": [
        "df_clean.groupby(['player'])['player'].count()"
      ],
      "execution_count": 29,
      "outputs": [
        {
          "output_type": "execute_result",
          "data": {
            "text/plain": [
              "player\n",
              "Messi      644\n",
              "Ronaldo    656\n",
              "Name: player, dtype: int64"
            ]
          },
          "metadata": {},
          "execution_count": 29
        }
      ]
    },
    {
      "cell_type": "code",
      "metadata": {
        "id": "5UaMNpTVEMvP",
        "colab": {
          "base_uri": "https://localhost:8080/",
          "height": 334
        },
        "outputId": "949962ff-484f-4de4-a54e-31b66d5fc53d"
      },
      "source": [
        "df_clean.groupby(['player'])['player'].count().plot(kind='barh', color=['skyblue', 'black'], width=0.5, figsize=(20,5))\n",
        "plt.xlabel('Goal')\n",
        "plt.ylabel('Player')\n",
        "plt.show()"
      ],
      "execution_count": 68,
      "outputs": [
        {
          "output_type": "display_data",
          "data": {
            "image/png": "[encoded data removed]",
            "text/plain": [
              "<Figure size 1440x360 with 1 Axes>"
            ]
          },
          "metadata": {
            "needs_background": "light"
          }
        }
      ]
    },
    {
      "cell_type": "markdown",
      "metadata": {
        "id": "gJ4uPxQYuy5j"
      },
      "source": [
        "**Ronaldo와 Messi의 연도별 골기록 비교**"
      ]
    },
    {
      "cell_type": "code",
      "metadata": {
        "colab": {
          "base_uri": "https://localhost:8080/"
        },
        "id": "BkNv0orvuhOD",
        "outputId": "a6d354d3-e101-482c-ced0-c6388c32ab60"
      },
      "source": [
        "df_clean.loc[df_clean.player == 'Ronaldo'].groupby(['Year'])['Year'].count()"
      ],
      "execution_count": 31,
      "outputs": [
        {
          "output_type": "execute_result",
          "data": {
            "text/plain": [
              "Year\n",
              "2002     5\n",
              "2003     1\n",
              "2004     6\n",
              "2005    13\n",
              "2006    19\n",
              "2007    29\n",
              "2008    34\n",
              "2009    29\n",
              "2010    45\n",
              "2011    53\n",
              "2012    58\n",
              "2013    59\n",
              "2014    56\n",
              "2015    54\n",
              "2016    42\n",
              "2017    42\n",
              "2018    43\n",
              "2019    25\n",
              "2020    41\n",
              "2021     2\n",
              "Name: Year, dtype: int64"
            ]
          },
          "metadata": {},
          "execution_count": 31
        }
      ]
    },
    {
      "cell_type": "code",
      "metadata": {
        "colab": {
          "base_uri": "https://localhost:8080/"
        },
        "id": "KLVTJDfou4m4",
        "outputId": "a213fa6c-1c1c-4a79-dc1e-2627abbc8596"
      },
      "source": [
        "df_clean.loc[df_clean.player == 'Messi'].groupby(['Year'])['Year'].count()"
      ],
      "execution_count": 32,
      "outputs": [
        {
          "output_type": "execute_result",
          "data": {
            "text/plain": [
              "Year\n",
              "2005     3\n",
              "2006    10\n",
              "2007    25\n",
              "2008    20\n",
              "2009    38\n",
              "2010    58\n",
              "2011    55\n",
              "2012    79\n",
              "2013    39\n",
              "2014    50\n",
              "2015    48\n",
              "2016    51\n",
              "2017    50\n",
              "2018    47\n",
              "2019    45\n",
              "2020    26\n",
              "Name: Year, dtype: int64"
            ]
          },
          "metadata": {},
          "execution_count": 32
        }
      ]
    },
    {
      "cell_type": "code",
      "metadata": {
        "colab": {
          "base_uri": "https://localhost:8080/",
          "height": 533
        },
        "id": "ZqYdeE7ewLo8",
        "outputId": "ecf5dbed-f786-47b6-9d86-259a0b78c77a"
      },
      "source": [
        "plt.subplot(211)\n",
        "df_clean.loc[df_clean.player == 'Ronaldo'].groupby(['Year'])['Year'].count().plot(kind='bar',color='skyblue',figsize=(20,5))\n",
        "plt.ylabel('Goal')\n",
        "plt.show()\n",
        "df_clean.loc[df_clean.player == 'Messi'].groupby(['Year'])['Year'].count().plot(kind='bar',color='black',figsize=(20,5))\n",
        "plt.ylabel('Goal')\n",
        "plt.show()"
      ],
      "execution_count": 65,
      "outputs": [
        {
          "output_type": "display_data",
          "data": {
            "image/png": "[encoded data removed]",
            "text/plain": [
              "<Figure size 1440x360 with 1 Axes>"
            ]
          },
          "metadata": {
            "needs_background": "light"
          }
        },
        {
          "output_type": "display_data",
          "data": {
            "image/png": "[encoded data removed]",
            "text/plain": [
              "<Figure size 1440x360 with 1 Axes>"
            ]
          },
          "metadata": {
            "needs_background": "light"
          }
        }
      ]
    },
    {
      "cell_type": "code",
      "metadata": {
        "colab": {
          "base_uri": "https://localhost:8080/",
          "height": 349
        },
        "id": "sqiwjS5HveRS",
        "outputId": "aac02a95-347c-401e-cbb0-ea76e822ae6f"
      },
      "source": [
        "df_clean.loc[df_clean.player == 'Ronaldo'].groupby(['Year'])['Year'].count().plot(kind='bar',label='Ronaldo',color='skyblue',figsize=(20,5),width=0.5)\n",
        "df_clean.loc[df_clean.player == 'Messi'].groupby(['Year'])['Year'].count().plot(kind='bar',label='Messi',color='black',figsize=(20,5),width=0.3)\n",
        "plt.legend()\n",
        "plt.show()"
      ],
      "execution_count": 64,
      "outputs": [
        {
          "output_type": "display_data",
          "data": {
            "image/png": "[encoded data removed]",
            "text/plain": [
              "<Figure size 1440x360 with 1 Axes>"
            ]
          },
          "metadata": {
            "needs_background": "light"
          }
        }
      ]
    },
    {
      "cell_type": "markdown",
      "metadata": {
        "id": "q0JTBFQh8KCT"
      },
      "source": [
        "**리그별 골기록 비교**"
      ]
    },
    {
      "cell_type": "code",
      "metadata": {
        "colab": {
          "base_uri": "https://localhost:8080/"
        },
        "id": "bQOZ2Pii0W2J",
        "outputId": "2f09942d-90fb-4276-a3e6-37fb3bbdb0d2"
      },
      "source": [
        "df_clean.loc[df_clean.player == 'Ronaldo'].groupby(['comp'])['comp'].count()"
      ],
      "execution_count": 71,
      "outputs": [
        {
          "output_type": "execute_result",
          "data": {
            "text/plain": [
              "comp\n",
              "Champions League               134\n",
              "Champions League Qualifying      1\n",
              "Club World Cup                   7\n",
              "Copa del Rey                    22\n",
              "Coppa Italia                     2\n",
              "EFL Cup                          4\n",
              "FA Cup                          13\n",
              "LaLiga                         311\n",
              "Liga NOS                         3\n",
              "Premier League                  84\n",
              "Serie A                         66\n",
              "Supercopa                        4\n",
              "Supercoppa Italiana              1\n",
              "Taça de Portugal Placard         2\n",
              "UEFA Super Cup                   2\n",
              "Name: comp, dtype: int64"
            ]
          },
          "metadata": {},
          "execution_count": 71
        }
      ]
    },
    {
      "cell_type": "code",
      "metadata": {
        "colab": {
          "base_uri": "https://localhost:8080/"
        },
        "id": "wyW59_pz0QHK",
        "outputId": "ee2f4ef8-e47d-4baa-8302-7e0e3e43e0cc"
      },
      "source": [
        "df_clean.loc[df_clean.player == 'Messi'].groupby(['comp'])['comp'].count()"
      ],
      "execution_count": 72,
      "outputs": [
        {
          "output_type": "execute_result",
          "data": {
            "text/plain": [
              "comp\n",
              "Champions League    118\n",
              "Club World Cup        5\n",
              "Copa del Rey         53\n",
              "LaLiga              451\n",
              "Supercopa            14\n",
              "UEFA Super Cup        3\n",
              "Name: comp, dtype: int64"
            ]
          },
          "metadata": {},
          "execution_count": 72
        }
      ]
    }
  ]
}