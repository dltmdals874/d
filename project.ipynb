{
  "nbformat": 4,
  "nbformat_minor": 0,
  "metadata": {
    "colab": {
      "name": "project",
      "provenance": [],
      "collapsed_sections": []
    },
    "kernelspec": {
      "name": "python3",
      "display_name": "Python 3"
    },
    "language_info": {
      "name": "python"
    }
  },
  "cells": [
    {
      "cell_type": "markdown",
      "source": [
        "# 1. DATA\n",
        "**두 축구선수 호날두와 메시의 공격기록**\n",
        "# 2. PLAN\n",
        "**두 선수의 포지션별, 헤딩, 필드, PK 골 기록 및 어떤 각각 두 선수와 가장 잘 맞는 축구선수는 누구인가? 등을 표와 그래프 등으로 표현 및 기록별 누가 더 우위인지를 비교**"
      ],
      "metadata": {
        "id": "rDjBmI7-bGxN"
      }
    },
    {
      "cell_type": "code",
      "metadata": {
        "id": "pru3gasY1aFs"
      },
      "source": [
        "import pandas as pd\n",
        "import numpy as np\n",
        "import matplotlib.pyplot as plt"
      ],
      "execution_count": null,
      "outputs": []
    },
    {
      "cell_type": "markdown",
      "metadata": {
        "id": "S2k4BJfMyvwh"
      },
      "source": [
        "# Project"
      ]
    },
    {
      "cell_type": "markdown",
      "metadata": {
        "id": "DPQmrnRO58Ak"
      },
      "source": [
        "**축구선수 호날두와 메시의 골 기록들을 불러오기 및 데이터확인한다**.\n"
      ]
    },
    {
      "cell_type": "code",
      "metadata": {
        "colab": {
          "base_uri": "https://localhost:8080/",
          "height": 424
        },
        "id": "xbiyiAJH1cG1",
        "outputId": "226fbe1a-42af-4c6a-fbd2-3e2af5bc4b3a"
      },
      "source": [
        "df = pd.read_csv('/content/cristiano_vs_messi.csv')\n",
        "df"
      ],
      "execution_count": null,
      "outputs": [
        {
          "output_type": "execute_result",
          "data": {
            "text/html": [
              "<div>\n",
              "<style scoped>\n",
              "    .dataframe tbody tr th:only-of-type {\n",
              "        vertical-align: middle;\n",
              "    }\n",
              "\n",
              "    .dataframe tbody tr th {\n",
              "        vertical-align: top;\n",
              "    }\n",
              "\n",
              "    .dataframe thead th {\n",
              "        text-align: right;\n",
              "    }\n",
              "</style>\n",
              "<table border=\"1\" class=\"dataframe\">\n",
              "  <thead>\n",
              "    <tr style=\"text-align: right;\">\n",
              "      <th></th>\n",
              "      <th>player</th>\n",
              "      <th>comp</th>\n",
              "      <th>round</th>\n",
              "      <th>date</th>\n",
              "      <th>venue</th>\n",
              "      <th>opp</th>\n",
              "      <th>pos</th>\n",
              "      <th>min</th>\n",
              "      <th>type</th>\n",
              "      <th>assisted</th>\n",
              "    </tr>\n",
              "  </thead>\n",
              "  <tbody>\n",
              "    <tr>\n",
              "      <th>0</th>\n",
              "      <td>ronaldo</td>\n",
              "      <td>Liga NOS</td>\n",
              "      <td>6</td>\n",
              "      <td>10/7/2002</td>\n",
              "      <td>H</td>\n",
              "      <td>Moreirense</td>\n",
              "      <td>RW</td>\n",
              "      <td>34'</td>\n",
              "      <td>NaN</td>\n",
              "      <td>NaN</td>\n",
              "    </tr>\n",
              "    <tr>\n",
              "      <th>1</th>\n",
              "      <td>ronaldo</td>\n",
              "      <td>Liga NOS</td>\n",
              "      <td>6</td>\n",
              "      <td>10/7/2002</td>\n",
              "      <td>H</td>\n",
              "      <td>Moreirense</td>\n",
              "      <td>NaN</td>\n",
              "      <td>90'</td>\n",
              "      <td>NaN</td>\n",
              "      <td>NaN</td>\n",
              "    </tr>\n",
              "    <tr>\n",
              "      <th>2</th>\n",
              "      <td>ronaldo</td>\n",
              "      <td>Liga NOS</td>\n",
              "      <td>8</td>\n",
              "      <td>10/26/2002</td>\n",
              "      <td>A</td>\n",
              "      <td>Boavista</td>\n",
              "      <td>NaN</td>\n",
              "      <td>88'</td>\n",
              "      <td>NaN</td>\n",
              "      <td>Carlos Martins</td>\n",
              "    </tr>\n",
              "    <tr>\n",
              "      <th>3</th>\n",
              "      <td>ronaldo</td>\n",
              "      <td>Taça de Portugal Placard</td>\n",
              "      <td>Fourth Round</td>\n",
              "      <td>11/24/2002</td>\n",
              "      <td>H</td>\n",
              "      <td>Estarreja</td>\n",
              "      <td>NaN</td>\n",
              "      <td>67'</td>\n",
              "      <td>Left-footed shot</td>\n",
              "      <td>César Prates</td>\n",
              "    </tr>\n",
              "    <tr>\n",
              "      <th>4</th>\n",
              "      <td>ronaldo</td>\n",
              "      <td>Taça de Portugal Placard</td>\n",
              "      <td>Fifth Round</td>\n",
              "      <td>12/18/2002</td>\n",
              "      <td>H</td>\n",
              "      <td>Oliv. Hospital</td>\n",
              "      <td>NaN</td>\n",
              "      <td>13'</td>\n",
              "      <td>NaN</td>\n",
              "      <td>NaN</td>\n",
              "    </tr>\n",
              "    <tr>\n",
              "      <th>...</th>\n",
              "      <td>...</td>\n",
              "      <td>...</td>\n",
              "      <td>...</td>\n",
              "      <td>...</td>\n",
              "      <td>...</td>\n",
              "      <td>...</td>\n",
              "      <td>...</td>\n",
              "      <td>...</td>\n",
              "      <td>...</td>\n",
              "      <td>...</td>\n",
              "    </tr>\n",
              "    <tr>\n",
              "      <th>1295</th>\n",
              "      <td>messi</td>\n",
              "      <td>NaN</td>\n",
              "      <td>NaN</td>\n",
              "      <td>NaN</td>\n",
              "      <td>NaN</td>\n",
              "      <td>NaN</td>\n",
              "      <td>NaN</td>\n",
              "      <td>82'</td>\n",
              "      <td>Left-footed shot</td>\n",
              "      <td>Sergi Roberto</td>\n",
              "    </tr>\n",
              "    <tr>\n",
              "      <th>1296</th>\n",
              "      <td>messi</td>\n",
              "      <td>LaLiga</td>\n",
              "      <td>11</td>\n",
              "      <td>11/29/2020</td>\n",
              "      <td>H</td>\n",
              "      <td>CA Osasuna</td>\n",
              "      <td>RW</td>\n",
              "      <td>73'</td>\n",
              "      <td>Left-footed shot</td>\n",
              "      <td>Trincão</td>\n",
              "    </tr>\n",
              "    <tr>\n",
              "      <th>1297</th>\n",
              "      <td>messi</td>\n",
              "      <td>LaLiga</td>\n",
              "      <td>13</td>\n",
              "      <td>12/13/2020</td>\n",
              "      <td>H</td>\n",
              "      <td>Levante</td>\n",
              "      <td>CF</td>\n",
              "      <td>76'</td>\n",
              "      <td>Left-footed shot</td>\n",
              "      <td>Frenkie de Jong</td>\n",
              "    </tr>\n",
              "    <tr>\n",
              "      <th>1298</th>\n",
              "      <td>messi</td>\n",
              "      <td>LaLiga</td>\n",
              "      <td>14</td>\n",
              "      <td>12/19/2020</td>\n",
              "      <td>H</td>\n",
              "      <td>Valencia</td>\n",
              "      <td>CF</td>\n",
              "      <td>45'+4</td>\n",
              "      <td>Header</td>\n",
              "      <td>NaN</td>\n",
              "    </tr>\n",
              "    <tr>\n",
              "      <th>1299</th>\n",
              "      <td>messi</td>\n",
              "      <td>LaLiga</td>\n",
              "      <td>15</td>\n",
              "      <td>12/22/2020</td>\n",
              "      <td>A</td>\n",
              "      <td>Real Valladolid</td>\n",
              "      <td>SS</td>\n",
              "      <td>65'</td>\n",
              "      <td>Left-footed shot</td>\n",
              "      <td>Pedri</td>\n",
              "    </tr>\n",
              "  </tbody>\n",
              "</table>\n",
              "<p>1300 rows × 10 columns</p>\n",
              "</div>"
            ],
            "text/plain": [
              "       player                      comp  ...              type         assisted\n",
              "0     ronaldo                  Liga NOS  ...               NaN              NaN\n",
              "1     ronaldo                  Liga NOS  ...               NaN              NaN\n",
              "2     ronaldo                  Liga NOS  ...               NaN   Carlos Martins\n",
              "3     ronaldo  Taça de Portugal Placard  ...  Left-footed shot     César Prates\n",
              "4     ronaldo  Taça de Portugal Placard  ...               NaN              NaN\n",
              "...       ...                       ...  ...               ...              ...\n",
              "1295    messi                       NaN  ...  Left-footed shot    Sergi Roberto\n",
              "1296    messi                    LaLiga  ...  Left-footed shot          Trincão\n",
              "1297    messi                    LaLiga  ...  Left-footed shot  Frenkie de Jong\n",
              "1298    messi                    LaLiga  ...            Header              NaN\n",
              "1299    messi                    LaLiga  ...  Left-footed shot            Pedri\n",
              "\n",
              "[1300 rows x 10 columns]"
            ]
          },
          "metadata": {},
          "execution_count": 5
        }
      ]
    },
    {
      "cell_type": "code",
      "metadata": {
        "colab": {
          "base_uri": "https://localhost:8080/"
        },
        "id": "4vxIjVRIuxS6",
        "outputId": "6b1df071-d43b-41ce-f702-73a5f775ad7c"
      },
      "source": [
        "df.columns"
      ],
      "execution_count": null,
      "outputs": [
        {
          "output_type": "execute_result",
          "data": {
            "text/plain": [
              "Index(['player', 'comp', 'round', 'date', 'venue', 'opp', 'pos', 'min', 'type',\n",
              "       'assisted'],\n",
              "      dtype='object')"
            ]
          },
          "metadata": {},
          "execution_count": 6
        }
      ]
    },
    {
      "cell_type": "code",
      "metadata": {
        "colab": {
          "base_uri": "https://localhost:8080/"
        },
        "id": "yImeLUwJuomg",
        "outputId": "26242a28-f6fb-43bd-cd93-348be8621210"
      },
      "source": [
        "df['player'].unique()"
      ],
      "execution_count": null,
      "outputs": [
        {
          "output_type": "execute_result",
          "data": {
            "text/plain": [
              "array(['ronaldo', 'messi'], dtype=object)"
            ]
          },
          "metadata": {},
          "execution_count": 7
        }
      ]
    },
    {
      "cell_type": "code",
      "metadata": {
        "colab": {
          "base_uri": "https://localhost:8080/"
        },
        "id": "jsMcztqAutlj",
        "outputId": "43a38487-43b1-4375-a564-634e7bc71772"
      },
      "source": [
        "df['comp'].unique()"
      ],
      "execution_count": null,
      "outputs": [
        {
          "output_type": "execute_result",
          "data": {
            "text/plain": [
              "array(['Liga NOS', 'Taça de Portugal Placard', 'Premier League', 'FA Cup',\n",
              "       'Champions League Qualifying', 'EFL Cup', nan, 'Champions League',\n",
              "       'Club World Cup', 'LaLiga', 'Copa del Rey', 'Supercopa',\n",
              "       'UEFA Super Cup', 'Serie A', 'Supercoppa Italiana', 'Coppa Italia'],\n",
              "      dtype=object)"
            ]
          },
          "metadata": {},
          "execution_count": 8
        }
      ]
    },
    {
      "cell_type": "code",
      "metadata": {
        "colab": {
          "base_uri": "https://localhost:8080/"
        },
        "id": "yjVzYz1kutea",
        "outputId": "b9d64308-7e72-45f8-c50a-dbe3cf35613a"
      },
      "source": [
        "df['round'].unique()"
      ],
      "execution_count": null,
      "outputs": [
        {
          "output_type": "execute_result",
          "data": {
            "text/plain": [
              "array(['6', '8', 'Fourth Round', 'Fifth Round', '11', '29', '32', '38',\n",
              "       'Final', '16', 'Third Round', '24', '25', 'Sixth Round', '30',\n",
              "       'Semi-Finals', '3rd round', 'Round of 16', '20', nan, '26', '28',\n",
              "       '1', '10', '15', '17', '19', '21', '23', '6th round',\n",
              "       'Quarter-Finals', '37', 'Group Stage', '9', '12', '13', '18', '22',\n",
              "       '27', 'last 16', '31', '33', '34', '36', '2', '3', '4', '35', '7',\n",
              "       '4th round', '14', 'final', '5', '5th round'], dtype=object)"
            ]
          },
          "metadata": {},
          "execution_count": 9
        }
      ]
    },
    {
      "cell_type": "code",
      "metadata": {
        "colab": {
          "base_uri": "https://localhost:8080/"
        },
        "id": "BVLlybE6utb6",
        "outputId": "8ab779d0-8cb6-4cf2-e2ef-a5cf524979b2"
      },
      "source": [
        "df['venue'].unique()"
      ],
      "execution_count": null,
      "outputs": [
        {
          "output_type": "execute_result",
          "data": {
            "text/plain": [
              "array(['H', 'A', nan], dtype=object)"
            ]
          },
          "metadata": {},
          "execution_count": 10
        }
      ]
    },
    {
      "cell_type": "code",
      "metadata": {
        "colab": {
          "base_uri": "https://localhost:8080/"
        },
        "id": "1FJNBTomutSd",
        "outputId": "6c339194-d845-4f66-c5a3-b53cbfa0fa20"
      },
      "source": [
        "df['opp'].unique()"
      ],
      "execution_count": null,
      "outputs": [
        {
          "output_type": "execute_result",
          "data": {
            "text/plain": [
              "array(['Moreirense ', 'Boavista', 'Estarreja', 'Oliv. Hospital',\n",
              "       'Portsmouth\\xa0\\xa0', 'Man City', 'Spurs\\xa0\\xa0',\n",
              "       'Birmingham\\xa0\\xa0', 'Aston Villa\\xa0\\xa0', 'Millwall',\n",
              "       'Southampton\\xa0\\xa0', 'Exeter City', 'Arsenal\\xa0\\xa0', 'Everton',\n",
              "       'Southampton', 'Fulham\\xa0\\xa0', 'Newcastle', 'Debrecen',\n",
              "       'Middlesbrough\\xa0\\xa0', 'West Brom', 'Bolton\\xa0\\xa0', nan,\n",
              "       'Wigan', 'Wigan\\xa0\\xa0', 'Charlton\\xa0\\xa0', 'Reading\\xa0\\xa0',\n",
              "       'Everton\\xa0\\xa0', 'Man City\\xa0\\xa0', 'Watford\\xa0\\xa0',\n",
              "       'Middlesbrough', 'AS Roma', 'Watford', 'AC Milan', 'Sporting CP',\n",
              "       'Dynamo Kyiv', 'Blackburn\\xa0\\xa0', 'Derby\\xa0\\xa0',\n",
              "       'Sunderland\\xa0\\xa0', 'West Ham\\xa0\\xa0', 'Aston Villa',\n",
              "       'Newcastle\\xa0\\xa0', 'Spurs', 'Olympique Lyon',\n",
              "       'Liverpool\\xa0\\xa0', 'Chelsea', 'West Brom\\xa0\\xa0',\n",
              "       'Hull City\\xa0\\xa0', 'Stoke City\\xa0\\xa0', 'Gamba Osaka', 'Derby',\n",
              "       'Inter', 'FC Porto', 'Arsenal', 'Dep. La Coruña\\xa0\\xa0',\n",
              "       'Espanyol\\xa0\\xa0', 'FC Zürich', 'Xerez CD\\xa0\\xa0',\n",
              "       'Villarreal\\xa0\\xa0', 'Marseille', 'UD Almería\\xa0\\xa0',\n",
              "       'Real Zaragoza\\xa0\\xa0', 'Málaga CF\\xa0\\xa0',\n",
              "       'CD Tenerife\\xa0\\xa0', 'Sevilla FC\\xa0\\xa0',\n",
              "       'Real Valladolid\\xa0\\xa0', 'Getafe\\xa0\\xa0', 'Racing\\xa0\\xa0',\n",
              "       'Valencia\\xa0\\xa0', 'CA Osasuna\\xa0\\xa0', 'RCD Mallorca\\xa0\\xa0',\n",
              "       'Athletic\\xa0\\xa0', 'Hércules CF\\xa0\\xa0', 'Real Murcia', 'Ajax',\n",
              "       'AJ Auxerre', 'Levante', 'Atlético Madrid',\n",
              "       'Real Sociedad\\xa0\\xa0', 'FC Barcelona\\xa0\\xa0', 'FC Barcelona',\n",
              "       'Rayo Vallecano\\xa0\\xa0', 'Atlético Madrid\\xa0\\xa0',\n",
              "       'Sporting Gijón\\xa0\\xa0', 'Ponferradina', 'Granada CF\\xa0\\xa0',\n",
              "       'Levante\\xa0\\xa0', 'CSKA Moscow', 'Real Betis\\xa0\\xa0',\n",
              "       'APOEL Nicosia', 'Bayern Munich ', 'Celta de Vigo\\xa0\\xa0',\n",
              "       'Bor. Dortmund', 'Celta de Vigo', 'Man Utd', 'Galatasaray',\n",
              "       'Elche CF\\xa0\\xa0', 'FC Copenhagen', 'Juventus', 'CA Osasuna',\n",
              "       'FC Schalke 04', 'Sevilla FC', 'Córdoba CF\\xa0\\xa0', 'FC Basel',\n",
              "       'Ludogorets', 'Liverpool', 'SD Eibar\\xa0\\xa0', 'Shakhtar D.',\n",
              "       'Malmö FF', 'UD Las Palmas\\xa0\\xa0', 'VfL Wolfsburg',\n",
              "       'Alavés\\xa0\\xa0', 'América', 'Kashima Antlers', 'Al-Jazira',\n",
              "       'Grêmio', 'Paris SG', 'Girona\\xa0\\xa0', 'Sassuolo\\xa0\\xa0',\n",
              "       'Frosinone\\xa0\\xa0', 'Udinese Calcio\\xa0\\xa0', 'Genoa\\xa0\\xa0',\n",
              "       'FC Empoli\\xa0\\xa0', 'AC Milan\\xa0\\xa0', 'SPAL\\xa0\\xa0',\n",
              "       'Fiorentina\\xa0\\xa0', 'Torino\\xa0\\xa0', 'Atalanta\\xa0\\xa0',\n",
              "       'Sampdoria\\xa0\\xa0', 'Lazio\\xa0\\xa0', 'Parma\\xa0\\xa0',\n",
              "       'Inter\\xa0\\xa0', 'SSC Napoli\\xa0\\xa0', 'Hellas Verona\\xa0\\xa0',\n",
              "       'Bay. Leverkusen', 'Bologna\\xa0\\xa0', 'Cagliari Calcio\\xa0\\xa0',\n",
              "       'AS Roma\\xa0\\xa0', 'Lecce\\xa0\\xa0', 'Spezia Calcio\\xa0\\xa0',\n",
              "       'Ferencváros', 'Albacete\\xa0\\xa0', 'Panathinaikos',\n",
              "       'Real Zaragoza', 'Werder Bremen', 'Real Madrid\\xa0\\xa0',\n",
              "       'Recr. Huelva\\xa0\\xa0', 'Getafe', 'Gimnàstic\\xa0\\xa0',\n",
              "       'VfB Stuttgart', 'Rangers', 'Celtic', 'Benidorm CF',\n",
              "       'CD Numancia\\xa0\\xa0', 'RCD Mallorca', 'Athletic', 'CyD Leonesa',\n",
              "       'Atlante', 'Estudiantes', 'AD Ceuta ', 'Real Betis', 'UD Almería',\n",
              "       'Real Madrid', 'BATE Borisov', 'Viktoria Plzen', 'Santos FC',\n",
              "       'Spartak Moscow', 'Córdoba CF', 'Málaga CF', 'Real Sociedad',\n",
              "       'Elche CF', 'Villarreal', 'River Plate', 'Espanyol', 'Valencia',\n",
              "       'CD Leganés\\xa0\\xa0', \"Bor. M'gladbach\", 'Alavés', 'Olympiacos',\n",
              "       'SD Huesca\\xa0\\xa0', 'PSV Eindhoven', 'Slavia Prague',\n",
              "       'CD Leganés', 'SSC Napoli'], dtype=object)"
            ]
          },
          "metadata": {},
          "execution_count": 11
        }
      ]
    },
    {
      "cell_type": "code",
      "metadata": {
        "colab": {
          "base_uri": "https://localhost:8080/"
        },
        "id": "e-aHuv-ButHs",
        "outputId": "3a24fb3b-3e9d-4dae-99c8-5af563d74a48"
      },
      "source": [
        "df['pos'].unique()"
      ],
      "execution_count": null,
      "outputs": [
        {
          "output_type": "execute_result",
          "data": {
            "text/plain": [
              "array(['RW', nan, 'CF', 'LW', 'LW\\xa0', 'CF\\xa0', 'AM', 'RW\\xa0',\n",
              "       'AM\\xa0', 'SS', 'SS\\xa0'], dtype=object)"
            ]
          },
          "metadata": {},
          "execution_count": 12
        }
      ]
    },
    {
      "cell_type": "code",
      "metadata": {
        "colab": {
          "base_uri": "https://localhost:8080/"
        },
        "id": "BH2-eoX3vEx4",
        "outputId": "56ef53ac-c3c0-40d2-9e8b-578eb4e4a3e5"
      },
      "source": [
        "df['min'].unique()"
      ],
      "execution_count": null,
      "outputs": [
        {
          "output_type": "execute_result",
          "data": {
            "text/plain": [
              "array([\"34'\", \"90'\", \"88'\", \"67'\", \"13'\", \"80'\", \"74'\", \"89'\", \"60'\",\n",
              "       \"4'\", \"44'\", \"87'\", \"9'\", \"8'\", \"54'\", \"58'\", \"45'+1\", \"21'\",\n",
              "       \"76'\", \"63'\", \"12'\", \"68'\", \"14'\", \"38'\", \"45'\", \"59'\", \"23'\",\n",
              "       \"19'\", \"73'\", \"82'\", \"10'\", \"39'\", \"84'\", \"85'\", \"47'\", \"50'\",\n",
              "       \"77'\", \"49'\", \"28'\", \"5'\", \"62'\", \"51'\", \"41'\", \"35'\", \"90'+3\",\n",
              "       \"22'\", \"81'\", \"48'\", \"70'\", \"90'+2\", \"69'\", \"56'\", \"79'\", \"16'\",\n",
              "       \"53'\", \"3'\", \"24'\", \"32'\", \"26'\", \"25'\", \"30'\", \"43'\", \"65'\",\n",
              "       \"11'\", \"6'\", \"57'\", \"61'\", \"17'\", \"27'\", \"1'\", \"75'\", \"2'\", \"64'\",\n",
              "       \"71'\", \"18'\", \"78'\", \"29'\", \"36'\", \"15'\", \"55'\", \"86'\", \"90'+1\",\n",
              "       \"72'\", \"20'\", \"42'\", \"103'\", \"46'\", \"52'\", \"90'+4\", \"37'\", \"66'\",\n",
              "       \"90'+6\", \"31'\", \"40'\", \"120'\", \"83'\", \"7'\", \"33'\", \"97'\", \"104'\",\n",
              "       \"105'\", \"109'\", \"90'+7\", \"45'+7\", \"110'\", \"45'+2\", \"45'+4\"],\n",
              "      dtype=object)"
            ]
          },
          "metadata": {},
          "execution_count": 13
        }
      ]
    },
    {
      "cell_type": "code",
      "metadata": {
        "colab": {
          "base_uri": "https://localhost:8080/"
        },
        "id": "IZWzayk_vGvp",
        "outputId": "76ce05bf-05f3-4499-fbba-c944711d9a6e"
      },
      "source": [
        "df['type'].unique()"
      ],
      "execution_count": null,
      "outputs": [
        {
          "output_type": "execute_result",
          "data": {
            "text/plain": [
              "array([nan, 'Left-footed shot', 'Right-footed shot', 'Tap-in', 'Header',\n",
              "       'Penalty', 'Direct free kick', 'Penalty rebound', 'Solo run',\n",
              "       'Long distance kick', 'Counter attack goal',\n",
              "       'Deflected shot on goal', 'Chest'], dtype=object)"
            ]
          },
          "metadata": {},
          "execution_count": 14
        }
      ]
    },
    {
      "cell_type": "code",
      "metadata": {
        "colab": {
          "base_uri": "https://localhost:8080/"
        },
        "id": "-Qe4o9VZvJI0",
        "outputId": "dac7949f-54ba-418d-abda-7d0a451eac94"
      },
      "source": [
        "df['assisted'].unique()"
      ],
      "execution_count": null,
      "outputs": [
        {
          "output_type": "execute_result",
          "data": {
            "text/plain": [
              "array([nan, 'Carlos Martins', 'César Prates', 'Ryan Giggs',\n",
              "       'Gary Neville', 'Paul Scholes', 'Louis Saha',\n",
              "       'Ruud van Nistelrooy', 'Roy Keane', 'Wayne Rooney', \"John O'Shea\",\n",
              "       'Ji-sung Park', 'Ole Gunnar Solskjaer', 'Michael Carrick',\n",
              "       'Wes Brown', 'Patrice Evra', 'Carlos Tevez', 'Nemanja Vidic?',\n",
              "       'Nani', 'Edwin van der Sar', 'Owen Hargreaves', 'Dimitar Berbatov',\n",
              "       'Anderson', 'Guti', 'Esteban Granero', 'Pepe', 'Karim Benzema',\n",
              "       'Gonzalo Higuaín', 'Lassana Diarra', 'Ezequiel Garay', 'Kaká',\n",
              "       'Marcelo', 'Sergio Ramos', 'Mesut Özil', 'Xabi Alonso',\n",
              "       'Ángel Di María', 'Sergio Canales', 'Sami Khedira',\n",
              "       'Álvaro Arbeloa', 'Fábio Coentrão', 'José Callejón', 'Luka Modric',\n",
              "       'Isco', 'Gareth Bale', 'Daniel Carvajal', 'James Rodríguez',\n",
              "       'Toni Kroos', 'Chicharito', 'Lucas Vázquez', 'Danilo', 'Jesé',\n",
              "       'Álvaro Morata', 'Nacho Fernández', 'Mateo Kovacic',\n",
              "       'Marco Asensio', 'Casemiro', 'Borja Mayoral', 'Emre Can',\n",
              "       'Mario Mandzukic', 'Blaise Matuidi', 'Leonardo Bonucci',\n",
              "       'Miralem Pjanic', 'Giorgio Chiellini', 'Paulo Dybala',\n",
              "       'Federico Bernardeschi', 'João Cancelo', 'Leonardo Spinazzola',\n",
              "       'Douglas Costa', 'Rodrigo Bentancur', 'Alex Sandro',\n",
              "       'Juan Cuadrado', 'Aaron Ramsey', 'Merih Demiral', 'Ronaldinho',\n",
              "       \"Samuel Eto'o\", 'Mark van Bommel', 'Sylvinho', 'Ludovic Giuly',\n",
              "       'Andrés Iniesta', 'Deco', 'Xavi', 'Giovanni van Bronckhorst',\n",
              "       'Gianluca Zambrotta', 'Thierry Henry', 'Bojan Krkic', 'Dani Alves',\n",
              "       'Aleksandr Hleb', 'Gerard Piqué', 'Zlatan Ibrahimovic', 'Pedro',\n",
              "       'Éric Abidal', 'Yaya Touré', 'Seydou Keita', 'Maxwell',\n",
              "       'David Villa', 'Thiago', 'Adriano', 'Ibrahim Afellay',\n",
              "       'Sergio Busquets', 'Cesc Fàbregas', 'Alexis Sánchez',\n",
              "       'Isaac Cuenca', 'Cristian Tello', 'Jordi Alba', 'Martín Montoya',\n",
              "       'Neymar', 'Alex Song', 'Antonio Amaya', 'Marc Bartra', 'Rafinha',\n",
              "       'Luis Suárez', 'Ivan Rakitic', 'Arda Turan', 'Munir El Haddadi',\n",
              "       'Lucas Digne', 'Sergi Roberto', 'Javier Mascherano',\n",
              "       'Paco Alcácer', 'Paulinho', 'Aleix Vidal', 'Denis Suárez',\n",
              "       'Ousmane Dembélé', 'Philippe Coutinho', 'Arturo Vidal',\n",
              "       'Nélson Semedo', 'Malcom', 'Clément Lenglet', 'Antoine Griezmann',\n",
              "       'Arthur', 'Frenkie de Jong', 'Riqui Puig', 'Trincão', 'Pedri'],\n",
              "      dtype=object)"
            ]
          },
          "metadata": {},
          "execution_count": 15
        }
      ]
    },
    {
      "cell_type": "markdown",
      "metadata": {
        "id": "RyAlFcsly7rm"
      },
      "source": [
        "# 데이터확인 및 수정"
      ]
    },
    {
      "cell_type": "markdown",
      "metadata": {
        "id": "hDBRWagj6TdD"
      },
      "source": [
        "**데이터에 NULL값을 확인하고 NULL값을 수정한다.**"
      ]
    },
    {
      "cell_type": "code",
      "metadata": {
        "colab": {
          "base_uri": "https://localhost:8080/"
        },
        "id": "MMh2YBXp2lhB",
        "outputId": "5bf10241-6f6a-4316-9a62-2857ce816848"
      },
      "source": [
        "df.isnull().sum()"
      ],
      "execution_count": null,
      "outputs": [
        {
          "output_type": "execute_result",
          "data": {
            "text/plain": [
              "player        0\n",
              "comp        454\n",
              "round       454\n",
              "date        454\n",
              "venue       454\n",
              "opp         454\n",
              "pos         507\n",
              "min           0\n",
              "type         19\n",
              "assisted    426\n",
              "dtype: int64"
            ]
          },
          "metadata": {},
          "execution_count": 16
        }
      ]
    },
    {
      "cell_type": "markdown",
      "metadata": {
        "id": "rTzlHO9MvcCJ"
      },
      "source": [
        "**플레이어 열의 값 타이틀로 전환**"
      ]
    },
    {
      "cell_type": "code",
      "metadata": {
        "id": "CMVOoiUo4mRN"
      },
      "source": [
        "df_clean = df.copy()\n",
        "df_clean['player'] = df_clean['player'].str.title()"
      ],
      "execution_count": null,
      "outputs": []
    },
    {
      "cell_type": "markdown",
      "metadata": {
        "id": "0Un8DU85v5Xn"
      },
      "source": [
        "**포지션과 상대팀열의 데이터값에 붙은 쓰레기 값을 지운다.**"
      ]
    },
    {
      "cell_type": "code",
      "metadata": {
        "id": "LG3gHGTO4-sl"
      },
      "source": [
        "if len(df_clean.pos) > 2:\n",
        "    df_clean.pos = df_clean.pos.str[0:2]\n",
        "df_clean.opp = df_clean.opp.str.replace('\\xa0\\xa0','')"
      ],
      "execution_count": null,
      "outputs": []
    },
    {
      "cell_type": "markdown",
      "metadata": {
        "id": "HJ7jEL9wwLea"
      },
      "source": [
        "**min열에서 '과 추가시간을 지운다**"
      ]
    },
    {
      "cell_type": "code",
      "metadata": {
        "id": "6c18lmMR5S1n"
      },
      "source": [
        "df_clean['min']=df_clean['min'].apply(lambda x:x.replace(\"'\",''))\n",
        "df_clean['min']=df_clean['min'].apply(lambda x:x.replace(\"+\",''))"
      ],
      "execution_count": null,
      "outputs": []
    },
    {
      "cell_type": "markdown",
      "metadata": {
        "id": "coySFRizw5W0"
      },
      "source": [
        "**라운드 열에서 final과 Final은 같은 것이므로 통일해준다.**"
      ]
    },
    {
      "cell_type": "code",
      "metadata": {
        "id": "__jomIR25cGX"
      },
      "source": [
        "df_clean['round']=df_clean['round'].replace('final','Final')"
      ],
      "execution_count": null,
      "outputs": []
    },
    {
      "cell_type": "markdown",
      "metadata": {
        "id": "bPx0_dX1xL8s"
      },
      "source": [
        "**pandas의 fillna 메소드를 사용해서 나머지 nan값을 채운다.**"
      ]
    },
    {
      "cell_type": "code",
      "metadata": {
        "id": "ACQjp6kL5gx1"
      },
      "source": [
        "columns =['comp', 'round', 'date', 'venue', 'opp', 'pos']\n",
        "for x in columns:\n",
        "    df_clean[x]=df_clean[x].fillna(method='ffill')"
      ],
      "execution_count": null,
      "outputs": []
    },
    {
      "cell_type": "markdown",
      "metadata": {
        "id": "GcHIx2DdxtSo"
      },
      "source": [
        "**타입과 어시시트 열의 nan값들은 노어시스트, 솔로로 채운다.**"
      ]
    },
    {
      "cell_type": "code",
      "metadata": {
        "id": "UDv19CP85qTO"
      },
      "source": [
        "df_clean.assisted = df_clean.assisted.fillna('No Assist')\n",
        "df_clean.type = df_clean.type.fillna('Solo')"
      ],
      "execution_count": null,
      "outputs": []
    },
    {
      "cell_type": "code",
      "metadata": {
        "colab": {
          "base_uri": "https://localhost:8080/"
        },
        "id": "rv58531Q5tUl",
        "outputId": "e5be3528-0047-43e1-a5bb-5a940d4c65f1"
      },
      "source": [
        "df_clean.isnull().sum()"
      ],
      "execution_count": null,
      "outputs": [
        {
          "output_type": "execute_result",
          "data": {
            "text/plain": [
              "player      0\n",
              "comp        0\n",
              "round       0\n",
              "date        0\n",
              "venue       0\n",
              "opp         0\n",
              "pos         0\n",
              "min         0\n",
              "type        0\n",
              "assisted    0\n",
              "dtype: int64"
            ]
          },
          "metadata": {},
          "execution_count": 23
        }
      ]
    },
    {
      "cell_type": "markdown",
      "metadata": {
        "id": "cSbnYGZ4yBXB"
      },
      "source": [
        "**player, pos, venue를 Categorical로 바꾸고 date열의 값들을 datetime으로 바꿔준다.**"
      ]
    },
    {
      "cell_type": "code",
      "metadata": {
        "id": "8tA5gQP-N2Q-"
      },
      "source": [
        "df_clean.player = df_clean.player.astype('category')\n",
        "df_clean.pos = df_clean.pos.astype('category')\n",
        "df_clean.venue = df_clean.venue.astype('category')\n",
        "df_clean.date = pd.to_datetime(df_clean.date)"
      ],
      "execution_count": null,
      "outputs": []
    },
    {
      "cell_type": "markdown",
      "metadata": {
        "id": "J0A3RVY9Df44"
      },
      "source": [
        "**date열에서 year만 추출하여 새로운 열을 만들어준다.**"
      ]
    },
    {
      "cell_type": "code",
      "metadata": {
        "id": "C-rz6XY7DhIk"
      },
      "source": [
        "df_clean['Year'] = df_clean.date.dt.year"
      ],
      "execution_count": null,
      "outputs": []
    },
    {
      "cell_type": "markdown",
      "metadata": {
        "id": "L9QalqxjyjKD"
      },
      "source": [
        "**정돈된 데이터를 확인한다.**"
      ]
    },
    {
      "cell_type": "code",
      "metadata": {
        "colab": {
          "base_uri": "https://localhost:8080/",
          "height": 424
        },
        "id": "I-jtEMzJyoBs",
        "outputId": "0f52682e-1454-4639-868b-dcdcc711729e"
      },
      "source": [
        "df_clean"
      ],
      "execution_count": null,
      "outputs": [
        {
          "output_type": "execute_result",
          "data": {
            "text/html": [
              "<div>\n",
              "<style scoped>\n",
              "    .dataframe tbody tr th:only-of-type {\n",
              "        vertical-align: middle;\n",
              "    }\n",
              "\n",
              "    .dataframe tbody tr th {\n",
              "        vertical-align: top;\n",
              "    }\n",
              "\n",
              "    .dataframe thead th {\n",
              "        text-align: right;\n",
              "    }\n",
              "</style>\n",
              "<table border=\"1\" class=\"dataframe\">\n",
              "  <thead>\n",
              "    <tr style=\"text-align: right;\">\n",
              "      <th></th>\n",
              "      <th>player</th>\n",
              "      <th>comp</th>\n",
              "      <th>round</th>\n",
              "      <th>date</th>\n",
              "      <th>venue</th>\n",
              "      <th>opp</th>\n",
              "      <th>pos</th>\n",
              "      <th>min</th>\n",
              "      <th>type</th>\n",
              "      <th>assisted</th>\n",
              "      <th>Year</th>\n",
              "    </tr>\n",
              "  </thead>\n",
              "  <tbody>\n",
              "    <tr>\n",
              "      <th>0</th>\n",
              "      <td>Ronaldo</td>\n",
              "      <td>Liga NOS</td>\n",
              "      <td>6</td>\n",
              "      <td>2002-10-07</td>\n",
              "      <td>H</td>\n",
              "      <td>Moreirense</td>\n",
              "      <td>RW</td>\n",
              "      <td>34</td>\n",
              "      <td>Solo</td>\n",
              "      <td>No Assist</td>\n",
              "      <td>2002</td>\n",
              "    </tr>\n",
              "    <tr>\n",
              "      <th>1</th>\n",
              "      <td>Ronaldo</td>\n",
              "      <td>Liga NOS</td>\n",
              "      <td>6</td>\n",
              "      <td>2002-10-07</td>\n",
              "      <td>H</td>\n",
              "      <td>Moreirense</td>\n",
              "      <td>RW</td>\n",
              "      <td>90</td>\n",
              "      <td>Solo</td>\n",
              "      <td>No Assist</td>\n",
              "      <td>2002</td>\n",
              "    </tr>\n",
              "    <tr>\n",
              "      <th>2</th>\n",
              "      <td>Ronaldo</td>\n",
              "      <td>Liga NOS</td>\n",
              "      <td>8</td>\n",
              "      <td>2002-10-26</td>\n",
              "      <td>A</td>\n",
              "      <td>Boavista</td>\n",
              "      <td>RW</td>\n",
              "      <td>88</td>\n",
              "      <td>Solo</td>\n",
              "      <td>Carlos Martins</td>\n",
              "      <td>2002</td>\n",
              "    </tr>\n",
              "    <tr>\n",
              "      <th>3</th>\n",
              "      <td>Ronaldo</td>\n",
              "      <td>Taça de Portugal Placard</td>\n",
              "      <td>Fourth Round</td>\n",
              "      <td>2002-11-24</td>\n",
              "      <td>H</td>\n",
              "      <td>Estarreja</td>\n",
              "      <td>RW</td>\n",
              "      <td>67</td>\n",
              "      <td>Left-footed shot</td>\n",
              "      <td>César Prates</td>\n",
              "      <td>2002</td>\n",
              "    </tr>\n",
              "    <tr>\n",
              "      <th>4</th>\n",
              "      <td>Ronaldo</td>\n",
              "      <td>Taça de Portugal Placard</td>\n",
              "      <td>Fifth Round</td>\n",
              "      <td>2002-12-18</td>\n",
              "      <td>H</td>\n",
              "      <td>Oliv. Hospital</td>\n",
              "      <td>RW</td>\n",
              "      <td>13</td>\n",
              "      <td>Solo</td>\n",
              "      <td>No Assist</td>\n",
              "      <td>2002</td>\n",
              "    </tr>\n",
              "    <tr>\n",
              "      <th>...</th>\n",
              "      <td>...</td>\n",
              "      <td>...</td>\n",
              "      <td>...</td>\n",
              "      <td>...</td>\n",
              "      <td>...</td>\n",
              "      <td>...</td>\n",
              "      <td>...</td>\n",
              "      <td>...</td>\n",
              "      <td>...</td>\n",
              "      <td>...</td>\n",
              "      <td>...</td>\n",
              "    </tr>\n",
              "    <tr>\n",
              "      <th>1295</th>\n",
              "      <td>Messi</td>\n",
              "      <td>LaLiga</td>\n",
              "      <td>9</td>\n",
              "      <td>2020-11-07</td>\n",
              "      <td>H</td>\n",
              "      <td>Real Betis</td>\n",
              "      <td>SS</td>\n",
              "      <td>82</td>\n",
              "      <td>Left-footed shot</td>\n",
              "      <td>Sergi Roberto</td>\n",
              "      <td>2020</td>\n",
              "    </tr>\n",
              "    <tr>\n",
              "      <th>1296</th>\n",
              "      <td>Messi</td>\n",
              "      <td>LaLiga</td>\n",
              "      <td>11</td>\n",
              "      <td>2020-11-29</td>\n",
              "      <td>H</td>\n",
              "      <td>CA Osasuna</td>\n",
              "      <td>RW</td>\n",
              "      <td>73</td>\n",
              "      <td>Left-footed shot</td>\n",
              "      <td>Trincão</td>\n",
              "      <td>2020</td>\n",
              "    </tr>\n",
              "    <tr>\n",
              "      <th>1297</th>\n",
              "      <td>Messi</td>\n",
              "      <td>LaLiga</td>\n",
              "      <td>13</td>\n",
              "      <td>2020-12-13</td>\n",
              "      <td>H</td>\n",
              "      <td>Levante</td>\n",
              "      <td>CF</td>\n",
              "      <td>76</td>\n",
              "      <td>Left-footed shot</td>\n",
              "      <td>Frenkie de Jong</td>\n",
              "      <td>2020</td>\n",
              "    </tr>\n",
              "    <tr>\n",
              "      <th>1298</th>\n",
              "      <td>Messi</td>\n",
              "      <td>LaLiga</td>\n",
              "      <td>14</td>\n",
              "      <td>2020-12-19</td>\n",
              "      <td>H</td>\n",
              "      <td>Valencia</td>\n",
              "      <td>CF</td>\n",
              "      <td>454</td>\n",
              "      <td>Header</td>\n",
              "      <td>No Assist</td>\n",
              "      <td>2020</td>\n",
              "    </tr>\n",
              "    <tr>\n",
              "      <th>1299</th>\n",
              "      <td>Messi</td>\n",
              "      <td>LaLiga</td>\n",
              "      <td>15</td>\n",
              "      <td>2020-12-22</td>\n",
              "      <td>A</td>\n",
              "      <td>Real Valladolid</td>\n",
              "      <td>SS</td>\n",
              "      <td>65</td>\n",
              "      <td>Left-footed shot</td>\n",
              "      <td>Pedri</td>\n",
              "      <td>2020</td>\n",
              "    </tr>\n",
              "  </tbody>\n",
              "</table>\n",
              "<p>1300 rows × 11 columns</p>\n",
              "</div>"
            ],
            "text/plain": [
              "       player                      comp  ...         assisted  Year\n",
              "0     Ronaldo                  Liga NOS  ...        No Assist  2002\n",
              "1     Ronaldo                  Liga NOS  ...        No Assist  2002\n",
              "2     Ronaldo                  Liga NOS  ...   Carlos Martins  2002\n",
              "3     Ronaldo  Taça de Portugal Placard  ...     César Prates  2002\n",
              "4     Ronaldo  Taça de Portugal Placard  ...        No Assist  2002\n",
              "...       ...                       ...  ...              ...   ...\n",
              "1295    Messi                    LaLiga  ...    Sergi Roberto  2020\n",
              "1296    Messi                    LaLiga  ...          Trincão  2020\n",
              "1297    Messi                    LaLiga  ...  Frenkie de Jong  2020\n",
              "1298    Messi                    LaLiga  ...        No Assist  2020\n",
              "1299    Messi                    LaLiga  ...            Pedri  2020\n",
              "\n",
              "[1300 rows x 11 columns]"
            ]
          },
          "metadata": {},
          "execution_count": 26
        }
      ]
    },
    {
      "cell_type": "markdown",
      "metadata": {
        "id": "kdqJ4QOiEJqo"
      },
      "source": [
        "# 기록 비교"
      ]
    },
    {
      "cell_type": "markdown",
      "metadata": {
        "id": "v0sZ9yaKuX_Q"
      },
      "source": [
        "**총 넣은 골 수 확인**"
      ]
    },
    {
      "cell_type": "code",
      "metadata": {
        "colab": {
          "base_uri": "https://localhost:8080/"
        },
        "id": "yi9gYpDMuRCB",
        "outputId": "a96bbda2-9b55-46b9-a14a-f108c3cd63f8"
      },
      "source": [
        "df_clean.groupby(['player'])['player'].count()"
      ],
      "execution_count": null,
      "outputs": [
        {
          "output_type": "execute_result",
          "data": {
            "text/plain": [
              "player\n",
              "Messi      644\n",
              "Ronaldo    656\n",
              "Name: player, dtype: int64"
            ]
          },
          "metadata": {},
          "execution_count": 27
        }
      ]
    },
    {
      "cell_type": "code",
      "metadata": {
        "id": "5UaMNpTVEMvP",
        "colab": {
          "base_uri": "https://localhost:8080/",
          "height": 334
        },
        "outputId": "fe5a7190-cc82-4603-ba73-970054613aca"
      },
      "source": [
        "df_clean.groupby(['player'])['player'].count().plot(kind='barh', color=['skyblue', 'black'], width=0.5, figsize=(20,5))\n",
        "plt.xlabel('Goal')\n",
        "plt.ylabel('Player')\n",
        "plt.show()"
      ],
      "execution_count": null,
      "outputs": [
        {
          "output_type": "display_data",
          "data": {
            "image/png": "[encoded data removed]",
            "text/plain": [
              "<Figure size 1440x360 with 1 Axes>"
            ]
          },
          "metadata": {
            "needs_background": "light"
          }
        }
      ]
    },
    {
      "cell_type": "markdown",
      "metadata": {
        "id": "gJ4uPxQYuy5j"
      },
      "source": [
        "**Ronaldo와 Messi의 연도별 골기록 비교**"
      ]
    },
    {
      "cell_type": "code",
      "metadata": {
        "colab": {
          "base_uri": "https://localhost:8080/"
        },
        "id": "BkNv0orvuhOD",
        "outputId": "5230f8dc-777b-4b73-cfb4-65f65174b996"
      },
      "source": [
        "df_clean.loc[df_clean.player == 'Ronaldo'].groupby(['Year'])['Year'].count()"
      ],
      "execution_count": null,
      "outputs": [
        {
          "output_type": "execute_result",
          "data": {
            "text/plain": [
              "Year\n",
              "2002     5\n",
              "2003     1\n",
              "2004     6\n",
              "2005    13\n",
              "2006    19\n",
              "2007    29\n",
              "2008    34\n",
              "2009    29\n",
              "2010    45\n",
              "2011    53\n",
              "2012    58\n",
              "2013    59\n",
              "2014    56\n",
              "2015    54\n",
              "2016    42\n",
              "2017    42\n",
              "2018    43\n",
              "2019    25\n",
              "2020    41\n",
              "2021     2\n",
              "Name: Year, dtype: int64"
            ]
          },
          "metadata": {},
          "execution_count": 29
        }
      ]
    },
    {
      "cell_type": "code",
      "metadata": {
        "colab": {
          "base_uri": "https://localhost:8080/"
        },
        "id": "KLVTJDfou4m4",
        "outputId": "7b04f092-8b28-45af-b525-8aa6f69edc99"
      },
      "source": [
        "df_clean.loc[df_clean.player == 'Messi'].groupby(['Year'])['Year'].count()"
      ],
      "execution_count": null,
      "outputs": [
        {
          "output_type": "execute_result",
          "data": {
            "text/plain": [
              "Year\n",
              "2005     3\n",
              "2006    10\n",
              "2007    25\n",
              "2008    20\n",
              "2009    38\n",
              "2010    58\n",
              "2011    55\n",
              "2012    79\n",
              "2013    39\n",
              "2014    50\n",
              "2015    48\n",
              "2016    51\n",
              "2017    50\n",
              "2018    47\n",
              "2019    45\n",
              "2020    26\n",
              "Name: Year, dtype: int64"
            ]
          },
          "metadata": {},
          "execution_count": 30
        }
      ]
    },
    {
      "cell_type": "code",
      "metadata": {
        "colab": {
          "base_uri": "https://localhost:8080/",
          "height": 533
        },
        "id": "ZqYdeE7ewLo8",
        "outputId": "82d49370-6cd6-4923-e5e0-db840b089277"
      },
      "source": [
        "plt.subplot(211)\n",
        "df_clean.loc[df_clean.player == 'Ronaldo'].groupby(['Year'])['Year'].count().plot(kind='bar',color='black',figsize=(20,5))\n",
        "plt.ylabel('Goal')\n",
        "plt.show()\n",
        "df_clean.loc[df_clean.player == 'Messi'].groupby(['Year'])['Year'].count().plot(kind='bar',color='skyblue',figsize=(20,5))\n",
        "plt.ylabel('Goal')\n",
        "plt.show()"
      ],
      "execution_count": null,
      "outputs": [
        {
          "output_type": "display_data",
          "data": {
            "image/png": "[encoded data removed]",
            "text/plain": [
              "<Figure size 1440x360 with 1 Axes>"
            ]
          },
          "metadata": {
            "needs_background": "light"
          }
        },
        {
          "output_type": "display_data",
          "data": {
            "image/png": "[encoded data removed]",
            "text/plain": [
              "<Figure size 1440x360 with 1 Axes>"
            ]
          },
          "metadata": {
            "needs_background": "light"
          }
        }
      ]
    },
    {
      "cell_type": "code",
      "metadata": {
        "colab": {
          "base_uri": "https://localhost:8080/",
          "height": 349
        },
        "id": "sqiwjS5HveRS",
        "outputId": "a04314b7-eb0d-4ba6-9fda-36025a7ccb02"
      },
      "source": [
        "df_ronaldo = df_clean.loc[df_clean.player == 'Ronaldo']\n",
        "df_ronaldo = df_ronaldo.loc[df_ronaldo.Year > 2004]\n",
        "df_ronaldo.loc[df_clean.player == 'Ronaldo'].groupby(['Year'])['Year'].count().plot(kind='bar',label='Ronaldo',color='black',figsize=(20,5),width=0.5)\n",
        "df_clean.loc[df_clean.player == 'Messi'].groupby(['Year'])['Year'].count().plot(kind='bar',label='Messi',color='skyblue',figsize=(20,5),width=0.3)\n",
        "plt.legend()\n",
        "plt.show()"
      ],
      "execution_count": null,
      "outputs": [
        {
          "output_type": "display_data",
          "data": {
            "image/png": "[encoded data removed]",
            "text/plain": [
              "<Figure size 1440x360 with 1 Axes>"
            ]
          },
          "metadata": {
            "needs_background": "light"
          }
        }
      ]
    },
    {
      "cell_type": "markdown",
      "source": [
        "둘이 동시에 뛰었던 년도 별로 비교한 결과 호날두가 8번 메시가 8번으로 각각 똑같은 횟수로 우위에 섰었지만 2012년도 80골에 육박하는 퍼포먼스를 보여준 메시가 더 우위에 있는 것으로 보인다.\n",
        "\n",
        "**MESSI WIN**"
      ],
      "metadata": {
        "id": "Y69rnDEbbwvA"
      }
    },
    {
      "cell_type": "markdown",
      "metadata": {
        "id": "q0JTBFQh8KCT"
      },
      "source": [
        "**리그별 골기록 비교**"
      ]
    },
    {
      "cell_type": "code",
      "metadata": {
        "colab": {
          "base_uri": "https://localhost:8080/"
        },
        "id": "bQOZ2Pii0W2J",
        "outputId": "fe4351fc-0f3f-482b-f76a-5232e6c7607a"
      },
      "source": [
        "df_clean.loc[df_clean.player == 'Ronaldo'].groupby(['comp'])['comp'].count()"
      ],
      "execution_count": null,
      "outputs": [
        {
          "output_type": "execute_result",
          "data": {
            "text/plain": [
              "comp\n",
              "Champions League               134\n",
              "Champions League Qualifying      1\n",
              "Club World Cup                   7\n",
              "Copa del Rey                    22\n",
              "Coppa Italia                     2\n",
              "EFL Cup                          4\n",
              "FA Cup                          13\n",
              "LaLiga                         311\n",
              "Liga NOS                         3\n",
              "Premier League                  84\n",
              "Serie A                         66\n",
              "Supercopa                        4\n",
              "Supercoppa Italiana              1\n",
              "Taça de Portugal Placard         2\n",
              "UEFA Super Cup                   2\n",
              "Name: comp, dtype: int64"
            ]
          },
          "metadata": {},
          "execution_count": 33
        }
      ]
    },
    {
      "cell_type": "code",
      "metadata": {
        "colab": {
          "base_uri": "https://localhost:8080/"
        },
        "id": "wyW59_pz0QHK",
        "outputId": "b2187e01-6a57-466e-a22c-10cde64d6a0c"
      },
      "source": [
        "df_clean.loc[df_clean.player == 'Messi'].groupby(['comp'])['comp'].count()"
      ],
      "execution_count": null,
      "outputs": [
        {
          "output_type": "execute_result",
          "data": {
            "text/plain": [
              "comp\n",
              "Champions League    118\n",
              "Club World Cup        5\n",
              "Copa del Rey         53\n",
              "LaLiga              451\n",
              "Supercopa            14\n",
              "UEFA Super Cup        3\n",
              "Name: comp, dtype: int64"
            ]
          },
          "metadata": {},
          "execution_count": 34
        }
      ]
    },
    {
      "cell_type": "code",
      "source": [
        "plt.subplot(211)\n",
        "plt.title('Ronaldo')\n",
        "df_clean.loc[df_clean.player == 'Ronaldo'].groupby(['comp'])['comp'].count().plot(kind='barh',color='black',width=0.2,ylabel='goal',figsize=(20,10))\n",
        "plt.show()\n",
        "plt.title('Messi')\n",
        "df_clean.loc[df_clean.player == 'Messi'].groupby(['comp'])['comp'].count().plot(kind='barh',color='skyblue',width=0.2,ylabel='goal',figsize=(20,5))\n",
        "plt.show()"
      ],
      "metadata": {
        "colab": {
          "base_uri": "https://localhost:8080/",
          "height": 630
        },
        "id": "pzytE1haIoP8",
        "outputId": "be1cc642-3dd8-4392-c6f9-454393295a0a"
      },
      "execution_count": null,
      "outputs": [
        {
          "output_type": "display_data",
          "data": {
            "image/png": "[encoded data removed]",
            "text/plain": [
              "<Figure size 1440x720 with 1 Axes>"
            ]
          },
          "metadata": {
            "needs_background": "light"
          }
        },
        {
          "output_type": "display_data",
          "data": {
            "image/png": "[encoded data removed]",
            "text/plain": [
              "<Figure size 1440x360 with 1 Axes>"
            ]
          },
          "metadata": {
            "needs_background": "light"
          }
        }
      ]
    },
    {
      "cell_type": "markdown",
      "source": [
        "**스페인 라리가에서 두 선수가 같이 뛰었던 기간동안을 비교**"
      ],
      "metadata": {
        "id": "oNlvFg96GGIo"
      }
    },
    {
      "cell_type": "code",
      "source": [
        "df_clean.loc[df_clean.player == 'Ronaldo'].loc[df_clean.comp=='LaLiga']['Year'].count()"
      ],
      "metadata": {
        "colab": {
          "base_uri": "https://localhost:8080/"
        },
        "id": "pE_2GR83DuSE",
        "outputId": "9cc8b4ef-e221-45a7-b757-d08dedf70d1a"
      },
      "execution_count": null,
      "outputs": [
        {
          "output_type": "execute_result",
          "data": {
            "text/plain": [
              "311"
            ]
          },
          "metadata": {},
          "execution_count": 36
        }
      ]
    },
    {
      "cell_type": "code",
      "source": [
        "df_clean.loc[df_clean.player == 'Messi'].loc[df_clean.comp=='LaLiga']['Year'].count()"
      ],
      "metadata": {
        "colab": {
          "base_uri": "https://localhost:8080/"
        },
        "id": "uiEdWVnOD7VX",
        "outputId": "ec5fd7e9-e8cb-409b-f985-7d39eb54b572"
      },
      "execution_count": null,
      "outputs": [
        {
          "output_type": "execute_result",
          "data": {
            "text/plain": [
              "451"
            ]
          },
          "metadata": {},
          "execution_count": 37
        }
      ]
    },
    {
      "cell_type": "code",
      "source": [
        "df_clean.loc[df_clean.player == 'Ronaldo'].loc[df_clean.comp=='LaLiga'].groupby(['Year'])['Year'].count()"
      ],
      "metadata": {
        "colab": {
          "base_uri": "https://localhost:8080/"
        },
        "id": "MscDoJGLKU-F",
        "outputId": "bd11ac5b-84b1-4dae-fb6b-00587d56de9e"
      },
      "execution_count": null,
      "outputs": [
        {
          "output_type": "execute_result",
          "data": {
            "text/plain": [
              "Year\n",
              "2009     7\n",
              "2010    36\n",
              "2011    43\n",
              "2012    40\n",
              "2013    38\n",
              "2014    38\n",
              "2015    37\n",
              "2016    31\n",
              "2017    19\n",
              "2018    22\n",
              "Name: Year, dtype: int64"
            ]
          },
          "metadata": {},
          "execution_count": 38
        }
      ]
    },
    {
      "cell_type": "code",
      "source": [
        "df_clean.loc[df_clean.player == 'Messi'].loc[df_clean.comp=='LaLiga'].groupby(['Year'])['Year'].count()"
      ],
      "metadata": {
        "colab": {
          "base_uri": "https://localhost:8080/"
        },
        "id": "-Y-HUJ9xKs95",
        "outputId": "cce91ba1-1cba-4002-ed4d-cc47746b8028"
      },
      "execution_count": null,
      "outputs": [
        {
          "output_type": "execute_result",
          "data": {
            "text/plain": [
              "Year\n",
              "2005     2\n",
              "2006     8\n",
              "2007    19\n",
              "2008    12\n",
              "2009    22\n",
              "2010    42\n",
              "2011    31\n",
              "2012    59\n",
              "2013    28\n",
              "2014    35\n",
              "2015    34\n",
              "2016    32\n",
              "2017    40\n",
              "2018    34\n",
              "2019    34\n",
              "2020    19\n",
              "Name: Year, dtype: int64"
            ]
          },
          "metadata": {},
          "execution_count": 39
        }
      ]
    },
    {
      "cell_type": "code",
      "source": [
        "df_messi = df_clean.loc[df_clean.player == 'Messi'].loc[df_clean.comp=='LaLiga'].loc[df_clean.Year > 2008].loc[df_clean.Year < 2019]\n",
        "df_clean.loc[df_clean.player == 'Ronaldo'].loc[df_clean.comp=='LaLiga'].groupby(['Year'])['Year'].count().plot(kind='line',label='Ronaldo',color='black',figsize=(20,5))\n",
        "df_messi.loc[df_clean.player == 'Messi'].loc[df_clean.comp=='LaLiga'].groupby(['Year'])['Year'].count().plot(kind='line',label='Messi',color='skyblue',figsize=(20,5))\n",
        "plt.legend()"
      ],
      "metadata": {
        "colab": {
          "base_uri": "https://localhost:8080/",
          "height": 351
        },
        "id": "fld-i6TtKxWF",
        "outputId": "c3156628-4883-44d0-d572-8f2b6f09ebce"
      },
      "execution_count": null,
      "outputs": [
        {
          "output_type": "execute_result",
          "data": {
            "text/plain": [
              "<matplotlib.legend.Legend at 0x7fac30e57a10>"
            ]
          },
          "metadata": {},
          "execution_count": 40
        },
        {
          "output_type": "display_data",
          "data": {
            "image/png": "[encoded data removed]",
            "text/plain": [
              "<Figure size 1440x360 with 1 Axes>"
            ]
          },
          "metadata": {
            "needs_background": "light"
          }
        }
      ]
    },
    {
      "cell_type": "markdown",
      "source": [
        "라리가에서는 그래프를 봐도 확연하게 메시가 더 좋은 모습을 보여준 것이 나타난다.\n",
        "\n",
        "**MESSI WIN**"
      ],
      "metadata": {
        "id": "_sEsZXRqcgxw"
      }
    },
    {
      "cell_type": "markdown",
      "source": [
        "**챔피언스리그에서 두 선수 비교**"
      ],
      "metadata": {
        "id": "mNwz_WYtGBru"
      }
    },
    {
      "cell_type": "code",
      "source": [
        "df_clean.loc[df_clean.player == 'Ronaldo'].loc[df_clean.comp=='Champions League']['Year'].count()"
      ],
      "metadata": {
        "colab": {
          "base_uri": "https://localhost:8080/"
        },
        "id": "k12Z69VFEDj-",
        "outputId": "4184936b-48c2-4f87-a507-1cbd63480b7a"
      },
      "execution_count": null,
      "outputs": [
        {
          "output_type": "execute_result",
          "data": {
            "text/plain": [
              "134"
            ]
          },
          "metadata": {},
          "execution_count": 41
        }
      ]
    },
    {
      "cell_type": "code",
      "source": [
        "df_clean.loc[df_clean.player == 'Messi'].loc[df_clean.comp=='Champions League']['Year'].count()"
      ],
      "metadata": {
        "colab": {
          "base_uri": "https://localhost:8080/"
        },
        "id": "-9wriftoDtWA",
        "outputId": "5c197365-40f8-4cd9-b521-b36b59a577e6"
      },
      "execution_count": null,
      "outputs": [
        {
          "output_type": "execute_result",
          "data": {
            "text/plain": [
              "118"
            ]
          },
          "metadata": {},
          "execution_count": 42
        }
      ]
    },
    {
      "cell_type": "code",
      "source": [
        "df_clean.loc[df_clean.player == 'Ronaldo'].loc[df_clean.comp=='Champions League'].groupby(['Year'])['Year'].count()"
      ],
      "metadata": {
        "colab": {
          "base_uri": "https://localhost:8080/"
        },
        "id": "P0k3sqDaJAsi",
        "outputId": "54c607e0-89ef-48b8-bcdd-009f777ddda5"
      },
      "execution_count": null,
      "outputs": [
        {
          "output_type": "execute_result",
          "data": {
            "text/plain": [
              "Year\n",
              "2007     8\n",
              "2008     3\n",
              "2009    10\n",
              "2010     5\n",
              "2011     5\n",
              "2012    13\n",
              "2013    15\n",
              "2014    13\n",
              "2015    16\n",
              "2016     7\n",
              "2017    19\n",
              "2018     7\n",
              "2019     7\n",
              "2020     6\n",
              "Name: Year, dtype: int64"
            ]
          },
          "metadata": {},
          "execution_count": 43
        }
      ]
    },
    {
      "cell_type": "code",
      "source": [
        "df_clean.loc[df_clean.player == 'Messi'].loc[df_clean.comp=='Champions League'].groupby(['Year'])['Year'].count()"
      ],
      "metadata": {
        "colab": {
          "base_uri": "https://localhost:8080/"
        },
        "id": "TwBe15KOJIVC",
        "outputId": "173744e7-abf7-4b9d-e263-3cd5d6894fe2"
      },
      "execution_count": null,
      "outputs": [
        {
          "output_type": "execute_result",
          "data": {
            "text/plain": [
              "Year\n",
              "2005     1\n",
              "2006     1\n",
              "2007     4\n",
              "2008     7\n",
              "2009     6\n",
              "2010    12\n",
              "2011    12\n",
              "2012    13\n",
              "2013     9\n",
              "2014    10\n",
              "2015     5\n",
              "2016    13\n",
              "2017     4\n",
              "2018     9\n",
              "2019     8\n",
              "2020     4\n",
              "Name: Year, dtype: int64"
            ]
          },
          "metadata": {},
          "execution_count": 44
        }
      ]
    },
    {
      "cell_type": "code",
      "source": [
        "df_messi = df_clean.loc[df_clean.player == 'Messi'].loc[df_clean.comp=='Champions League'].loc[df_clean.Year > 2006].loc[df_clean.Year <= 2020]\n",
        "df_clean.loc[df_clean.player == 'Ronaldo'].loc[df_clean.comp=='Champions League'].groupby(['Year'])['Year'].count().plot(kind='bar',label='Ronaldo',color='black',figsize=(20,5),width=0.5)\n",
        "df_messi.loc[df_clean.player == 'Messi'].loc[df_clean.comp=='Champions League'].groupby(['Year'])['Year'].count().plot(kind='bar',label='Messi',color='skyblue',figsize=(20,5),width=0.3)\n",
        "plt.legend()"
      ],
      "metadata": {
        "colab": {
          "base_uri": "https://localhost:8080/",
          "height": 366
        },
        "id": "ygYY4AWGJRwi",
        "outputId": "1a91b34a-84d9-4274-fea3-957ddbd1eb4f"
      },
      "execution_count": null,
      "outputs": [
        {
          "output_type": "execute_result",
          "data": {
            "text/plain": [
              "<matplotlib.legend.Legend at 0x7fac31994450>"
            ]
          },
          "metadata": {},
          "execution_count": 45
        },
        {
          "output_type": "display_data",
          "data": {
            "image/png": "[encoded data removed]",
            "text/plain": [
              "<Figure size 1440x360 with 1 Axes>"
            ]
          },
          "metadata": {
            "needs_background": "light"
          }
        }
      ]
    },
    {
      "cell_type": "markdown",
      "source": [
        "각 리그의 정상급 팀들이 경기하는 챔피언스리그에서는 메시는 6번 호날두는 7번의 우위를 가져갔다. 총 넣은 골의 수만 비교해도 호날두가 우위를 가져간다.\n",
        "\n",
        "**RONALDO WIN**"
      ],
      "metadata": {
        "id": "d6GmMHqRdDiu"
      }
    },
    {
      "cell_type": "markdown",
      "source": [
        "**포지션별 누가 더 우위인지 비교**"
      ],
      "metadata": {
        "id": "4tT-s99FF6UK"
      }
    },
    {
      "cell_type": "code",
      "source": [
        "df_clean.loc[df_clean.player == 'Ronaldo'].groupby(['pos'])['pos'].count()"
      ],
      "metadata": {
        "colab": {
          "base_uri": "https://localhost:8080/"
        },
        "id": "5o_xP2rxEY7t",
        "outputId": "7e6a6bee-f0b3-4b60-c839-05040324b761"
      },
      "execution_count": null,
      "outputs": [
        {
          "output_type": "execute_result",
          "data": {
            "text/plain": [
              "pos\n",
              "AM      0\n",
              "CF    165\n",
              "LW    367\n",
              "RW    124\n",
              "SS      0\n",
              "Name: pos, dtype: int64"
            ]
          },
          "metadata": {},
          "execution_count": 46
        }
      ]
    },
    {
      "cell_type": "code",
      "source": [
        "df_clean.loc[df_clean.player == 'Messi'].groupby(['pos'])['pos'].count()"
      ],
      "metadata": {
        "colab": {
          "base_uri": "https://localhost:8080/"
        },
        "id": "K3byplvnEdid",
        "outputId": "17ed72b8-cd10-408c-fc77-c564061fed35"
      },
      "execution_count": null,
      "outputs": [
        {
          "output_type": "execute_result",
          "data": {
            "text/plain": [
              "pos\n",
              "AM     10\n",
              "CF    272\n",
              "LW      1\n",
              "RW    316\n",
              "SS     45\n",
              "Name: pos, dtype: int64"
            ]
          },
          "metadata": {},
          "execution_count": 47
        }
      ]
    },
    {
      "cell_type": "code",
      "source": [
        "df_clean.loc[df_clean.player == 'Ronaldo'].groupby(['pos'])['Year'].count().plot(kind='bar',label='Ronaldo',color='black',figsize=(20,5),width=0.5)\n",
        "df_clean.loc[df_clean.player == 'Messi'].groupby(['pos'])['Year'].count().plot(kind='bar',label='Messi',color='skyblue',figsize=(20,5),width=0.3)\n",
        "plt.legend()\n",
        "plt.show()"
      ],
      "metadata": {
        "colab": {
          "base_uri": "https://localhost:8080/",
          "height": 340
        },
        "id": "LL-ivlRYIMHo",
        "outputId": "6981033d-1f09-4e7f-8b05-412c8362aade"
      },
      "execution_count": null,
      "outputs": [
        {
          "output_type": "display_data",
          "data": {
            "image/png": "[encoded data removed]",
            "text/plain": [
              "<Figure size 1440x360 with 1 Axes>"
            ]
          },
          "metadata": {
            "needs_background": "light"
          }
        }
      ]
    },
    {
      "cell_type": "markdown",
      "source": [
        "왼쪽 윙포워드 포지션에서는 호날두에 비할 수 없지만 포지션 부분에서는 다른 포지션에서도 골을 넣는 메시가 더 뛰어나다고 평가된다.\n",
        "\n",
        "**MESSI WIN**"
      ],
      "metadata": {
        "id": "FCWgQZk-dezq"
      }
    },
    {
      "cell_type": "markdown",
      "source": [
        "**각 선수들이 주로 사용하여 골을 넣은 부위**"
      ],
      "metadata": {
        "id": "2ajVYNwIF1_S"
      }
    },
    {
      "cell_type": "code",
      "source": [
        "df_clean.loc[df_clean.player == 'Ronaldo'].groupby(['type'])['Year'].count().nlargest(5, keep='first')"
      ],
      "metadata": {
        "colab": {
          "base_uri": "https://localhost:8080/"
        },
        "id": "pzeryCnMEqSw",
        "outputId": "1de0ae07-1cf7-45f0-a1d6-c29853693371"
      },
      "execution_count": null,
      "outputs": [
        {
          "output_type": "execute_result",
          "data": {
            "text/plain": [
              "type\n",
              "Right-footed shot    235\n",
              "Penalty              122\n",
              "Header               103\n",
              "Left-footed shot     102\n",
              "Direct free kick      46\n",
              "Name: Year, dtype: int64"
            ]
          },
          "metadata": {},
          "execution_count": 49
        }
      ]
    },
    {
      "cell_type": "code",
      "source": [
        "df_clean.loc[df_clean.player == 'Messi'].groupby(['type'])['Year'].count().nlargest(5, keep='first').reindex(index=['Right-footed shot','Penalty','Header','Left-footed shot','Direct free kick'])"
      ],
      "metadata": {
        "colab": {
          "base_uri": "https://localhost:8080/"
        },
        "id": "kf78twupEqiL",
        "outputId": "040396dc-7162-48d4-b389-c01a76ec3900"
      },
      "execution_count": null,
      "outputs": [
        {
          "output_type": "execute_result",
          "data": {
            "text/plain": [
              "type\n",
              "Right-footed shot     80\n",
              "Penalty               80\n",
              "Header                23\n",
              "Left-footed shot     394\n",
              "Direct free kick      47\n",
              "Name: Year, dtype: int64"
            ]
          },
          "metadata": {},
          "execution_count": 50
        }
      ]
    },
    {
      "cell_type": "code",
      "source": [
        "df_clean.loc[df_clean.player == 'Ronaldo'].groupby(['type'])['Year'].count().nlargest(5, keep='first').plot(kind='bar',label='Ronaldo',color='black',figsize=(20,5),width=0.5)\n",
        "df_clean.loc[df_clean.player == 'Messi'].groupby(['type'])['Year'].count().nlargest(5, keep='first').reindex(\n",
        "    index=['Right-footed shot','Penalty','Header','Left-footed shot','Direct free kick']).plot(kind='bar',label='Messi',color='skyblue',figsize=(20,5),width=0.3)\n",
        "plt.legend()\n",
        "plt.show()"
      ],
      "metadata": {
        "colab": {
          "base_uri": "https://localhost:8080/",
          "height": 410
        },
        "id": "wQR1ylWGJoj1",
        "outputId": "190c8a7c-0c5c-4348-d076-7201073f7024"
      },
      "execution_count": null,
      "outputs": [
        {
          "output_type": "display_data",
          "data": {
            "image/png": "[encoded data removed]",
            "text/plain": [
              "<Figure size 1440x360 with 1 Axes>"
            ]
          },
          "metadata": {
            "needs_background": "light"
          }
        }
      ]
    },
    {
      "cell_type": "markdown",
      "source": [
        "메시는 주로 왼발로 골을 넣는 반면에 호날두는 다양한 부위로 골을 넣는 것을 위에 표로 알 수 있다. 다채로운 골을 넣은 호날두가 더 이 부분에서는 뛰어나다고 평가된다.\n",
        "\n",
        "**RONALDO WIN**"
      ],
      "metadata": {
        "id": "RmYMVjvbdymZ"
      }
    },
    {
      "cell_type": "markdown",
      "source": [
        "**총 전적 2:3으로 메시가 호날두보다 우위에 있는 것으로 판단된다.**"
      ],
      "metadata": {
        "id": "FuhGa06cftzf"
      }
    },
    {
      "cell_type": "markdown",
      "source": [
        "# 번외"
      ],
      "metadata": {
        "id": "roq3O2-5f6Yf"
      }
    },
    {
      "cell_type": "markdown",
      "source": [
        "**두 선수와 합이 잘 맞은 선수들**"
      ],
      "metadata": {
        "id": "nzWCLc7_Ftu9"
      }
    },
    {
      "cell_type": "code",
      "source": [
        "df_clean.loc[df_clean.player == 'Ronaldo'].groupby(['assisted'])['assisted'].count().nlargest(5, keep='first')"
      ],
      "metadata": {
        "colab": {
          "base_uri": "https://localhost:8080/"
        },
        "id": "7PDwHLVLFbqF",
        "outputId": "8baab148-6c8f-4301-ebf6-80a341bf5203"
      },
      "execution_count": null,
      "outputs": [
        {
          "output_type": "execute_result",
          "data": {
            "text/plain": [
              "assisted\n",
              "No Assist        225\n",
              "Karim Benzema     44\n",
              "Gareth Bale       29\n",
              "Mesut Özil        26\n",
              "Marcelo           23\n",
              "Name: assisted, dtype: int64"
            ]
          },
          "metadata": {},
          "execution_count": 52
        }
      ]
    },
    {
      "cell_type": "code",
      "source": [
        "df_clean.loc[df_clean.player == 'Ronaldo'].groupby(['assisted'])['assisted'].count().nlargest(5, keep='first').plot(kind='pie',figsize=(20,5),autopct='%.1f%%')"
      ],
      "metadata": {
        "colab": {
          "base_uri": "https://localhost:8080/",
          "height": 320
        },
        "id": "3F4NurcoGQ3G",
        "outputId": "7bac8b07-d6fe-404b-8683-9d91c113119b"
      },
      "execution_count": null,
      "outputs": [
        {
          "output_type": "execute_result",
          "data": {
            "text/plain": [
              "<matplotlib.axes._subplots.AxesSubplot at 0x7fac31397290>"
            ]
          },
          "metadata": {},
          "execution_count": 53
        },
        {
          "output_type": "display_data",
          "data": {
            "image/png": "[encoded data removed]",
            "text/plain": [
              "<Figure size 1440x360 with 1 Axes>"
            ]
          },
          "metadata": {}
        }
      ]
    },
    {
      "cell_type": "code",
      "source": [
        "df_clean.loc[df_clean.player == 'Messi'].groupby(['assisted'])['assisted'].count().nlargest(5, keep='first')"
      ],
      "metadata": {
        "colab": {
          "base_uri": "https://localhost:8080/"
        },
        "id": "oOgUsZlFFovB",
        "outputId": "b7f084d9-f8c0-4dce-81fc-a94c11878169"
      },
      "execution_count": null,
      "outputs": [
        {
          "output_type": "execute_result",
          "data": {
            "text/plain": [
              "assisted\n",
              "No Assist         201\n",
              "Luis Suárez        48\n",
              "Dani Alves         42\n",
              "Andrés Iniesta     39\n",
              "Xavi               34\n",
              "Name: assisted, dtype: int64"
            ]
          },
          "metadata": {},
          "execution_count": 54
        }
      ]
    },
    {
      "cell_type": "code",
      "source": [
        "df_clean.loc[df_clean.player == 'Messi'].groupby(['assisted'])['assisted'].count().nlargest(5, keep='first').plot(kind='pie',figsize=(20,5),autopct='%.1f%%')"
      ],
      "metadata": {
        "colab": {
          "base_uri": "https://localhost:8080/",
          "height": 320
        },
        "id": "l1Wb55HjG4i2",
        "outputId": "82f66722-dbab-4ec5-b99c-7cb0b7c095ed"
      },
      "execution_count": null,
      "outputs": [
        {
          "output_type": "execute_result",
          "data": {
            "text/plain": [
              "<matplotlib.axes._subplots.AxesSubplot at 0x7fac3142b950>"
            ]
          },
          "metadata": {},
          "execution_count": 55
        },
        {
          "output_type": "display_data",
          "data": {
            "image/png": "[encoded data removed]",
            "text/plain": [
              "<Figure size 1440x360 with 1 Axes>"
            ]
          },
          "metadata": {}
        }
      ]
    },
    {
      "cell_type": "markdown",
      "source": [
        "호날두는 카림 벤제마와 가장 호흡이 잘맞고 메시는 루이스 수아레즈와 가장 호흡이 잘맞는다. 두 선수 모두 스페인 라리가에서 뛰었던 동료와 합이 잘 맞는다."
      ],
      "metadata": {
        "id": "5HABxgKWfZdq"
      }
    },
    {
      "cell_type": "markdown",
      "source": [
        "# 2021년도 골 수 예측"
      ],
      "metadata": {
        "id": "nefH_ZBSR-j3"
      }
    },
    {
      "cell_type": "markdown",
      "source": [
        "**Ronaldo 예측**"
      ],
      "metadata": {
        "id": "PDSm4ViYSKNI"
      }
    },
    {
      "cell_type": "code",
      "source": [
        "Ronaldo = df_clean.loc[df_clean.player == 'Ronaldo'].groupby(['Year']).count()\n",
        "Ronaldo = pd.DataFrame(Ronaldo)"
      ],
      "metadata": {
        "id": "xMG3ZWllHfwv"
      },
      "execution_count": null,
      "outputs": []
    },
    {
      "cell_type": "code",
      "source": [
        "Ronaldo['year'] = [2002, 2003, 2004, 2005, 2006, 2007, 2008, 2009, 2010, 2011, 2012, 2013, 2014, 2015, 2016, 2017, 2018, 2019, 2020, 2021]"
      ],
      "metadata": {
        "id": "TAfbY8hCNSbp"
      },
      "execution_count": null,
      "outputs": []
    },
    {
      "cell_type": "code",
      "source": [
        "Ronaldo = Ronaldo.drop([2021])"
      ],
      "metadata": {
        "id": "Dvpw3ab4QxuK"
      },
      "execution_count": null,
      "outputs": []
    },
    {
      "cell_type": "code",
      "source": [
        "X = Ronaldo['year']\n",
        "y = Ronaldo['player']"
      ],
      "metadata": {
        "id": "M7kXp2WWRL7Z"
      },
      "execution_count": null,
      "outputs": []
    },
    {
      "cell_type": "code",
      "source": [
        "from sklearn.linear_model import LinearRegression\n",
        "from sklearn.preprocessing import PolynomialFeatures"
      ],
      "metadata": {
        "id": "Z2wnOA8_KvQH"
      },
      "execution_count": null,
      "outputs": []
    },
    {
      "cell_type": "code",
      "source": [
        "line_fitter = LinearRegression()\n",
        "line_fitter.fit(X.values.reshape(-1,1), y)"
      ],
      "metadata": {
        "colab": {
          "base_uri": "https://localhost:8080/"
        },
        "id": "7ikUgqPfKwwj",
        "outputId": "5b8314e3-faf3-4e60-b8be-76674bc2b913"
      },
      "execution_count": null,
      "outputs": [
        {
          "output_type": "execute_result",
          "data": {
            "text/plain": [
              "LinearRegression()"
            ]
          },
          "metadata": {},
          "execution_count": 64
        }
      ]
    },
    {
      "cell_type": "code",
      "source": [
        "plt.plot(X, y, 'o')\n",
        "plt.plot(X,line_fitter.predict(X.values.reshape(-1,1)))"
      ],
      "metadata": {
        "colab": {
          "base_uri": "https://localhost:8080/",
          "height": 282
        },
        "id": "IKbOF2lpRo_e",
        "outputId": "3a232d9b-c78a-4acf-cb2e-101a56dff914"
      },
      "execution_count": null,
      "outputs": [
        {
          "output_type": "execute_result",
          "data": {
            "text/plain": [
              "[<matplotlib.lines.Line2D at 0x7fac1fb1af10>]"
            ]
          },
          "metadata": {},
          "execution_count": 65
        },
        {
          "output_type": "display_data",
          "data": {
            "image/png": "[encoded data removed]",
            "text/plain": [
              "<Figure size 432x288 with 1 Axes>"
            ]
          },
          "metadata": {
            "needs_background": "light"
          }
        }
      ]
    },
    {
      "cell_type": "code",
      "source": [
        "line_fitter.predict([[2021]])"
      ],
      "metadata": {
        "colab": {
          "base_uri": "https://localhost:8080/"
        },
        "id": "-DPR6DlOR0FV",
        "outputId": "252bcd86-e5f4-4322-9b89-012ccdbb0156"
      },
      "execution_count": null,
      "outputs": [
        {
          "output_type": "execute_result",
          "data": {
            "text/plain": [
              "array([57.28070175])"
            ]
          },
          "metadata": {},
          "execution_count": 66
        }
      ]
    },
    {
      "cell_type": "markdown",
      "source": [
        "**Messi 예측**"
      ],
      "metadata": {
        "id": "cI_D28JwSQUG"
      }
    },
    {
      "cell_type": "code",
      "source": [
        "Messi = df_clean.loc[df_clean.player == 'Messi'].groupby(['Year']).count()\n",
        "Messi = pd.DataFrame(Messi)"
      ],
      "metadata": {
        "id": "5P_Qz68bSUSB"
      },
      "execution_count": null,
      "outputs": []
    },
    {
      "cell_type": "code",
      "source": [
        "Messi['year'] = [2005, 2006, 2007, 2008, 2009, 2010, 2011, 2012, 2013, 2014, 2015, 2016, 2017, 2018, 2019, 2020]"
      ],
      "metadata": {
        "id": "x0GCd8ZMSafi"
      },
      "execution_count": null,
      "outputs": []
    },
    {
      "cell_type": "code",
      "source": [
        "X = Messi['year']\n",
        "y = Messi['player']"
      ],
      "metadata": {
        "id": "2_FVAXhjShFd"
      },
      "execution_count": null,
      "outputs": []
    },
    {
      "cell_type": "code",
      "source": [
        "line_fitter = LinearRegression()\n",
        "line_fitter.fit(X.values.reshape(-1,1), y)"
      ],
      "metadata": {
        "colab": {
          "base_uri": "https://localhost:8080/"
        },
        "id": "qQzVPXqkSleW",
        "outputId": "a7487a23-0003-423c-915e-175c50316a8f"
      },
      "execution_count": null,
      "outputs": [
        {
          "output_type": "execute_result",
          "data": {
            "text/plain": [
              "LinearRegression()"
            ]
          },
          "metadata": {},
          "execution_count": 70
        }
      ]
    },
    {
      "cell_type": "code",
      "source": [
        "plt.plot(X, y, 'o')\n",
        "plt.plot(X,line_fitter.predict(X.values.reshape(-1,1)))"
      ],
      "metadata": {
        "colab": {
          "base_uri": "https://localhost:8080/",
          "height": 282
        },
        "id": "8rVYMzPySm54",
        "outputId": "47acab75-f1e0-48c5-e43b-f5ed7cf5016c"
      },
      "execution_count": null,
      "outputs": [
        {
          "output_type": "execute_result",
          "data": {
            "text/plain": [
              "[<matplotlib.lines.Line2D at 0x7fac1fa9f310>]"
            ]
          },
          "metadata": {},
          "execution_count": 71
        },
        {
          "output_type": "display_data",
          "data": {
            "image/png": "[encoded data removed]",
            "text/plain": [
              "<Figure size 432x288 with 1 Axes>"
            ]
          },
          "metadata": {
            "needs_background": "light"
          }
        }
      ]
    },
    {
      "cell_type": "code",
      "source": [
        "line_fitter.predict([[2021]])"
      ],
      "metadata": {
        "colab": {
          "base_uri": "https://localhost:8080/"
        },
        "id": "N7IfgoWWSoph",
        "outputId": "61058588-9678-4eb5-a36a-90cf1568c1dd"
      },
      "execution_count": null,
      "outputs": [
        {
          "output_type": "execute_result",
          "data": {
            "text/plain": [
              "array([56.475])"
            ]
          },
          "metadata": {},
          "execution_count": 72
        }
      ]
    },
    {
      "cell_type": "markdown",
      "source": [
        "**RONALDO 비선형 회귀**"
      ],
      "metadata": {
        "id": "amBVqxV2eb96"
      }
    },
    {
      "cell_type": "code",
      "source": [
        "Ronaldo = df_clean.loc[df_clean.player == 'Ronaldo'].groupby(['Year']).count()\n",
        "Ronaldo = pd.DataFrame(Ronaldo)\n",
        "Ronaldo['year'] = [2002, 2003, 2004, 2005, 2006, 2007, 2008, 2009, 2010, 2011, 2012, 2013, 2014, 2015, 2016, 2017, 2018, 2019, 2020, 2021]\n",
        "Ronaldo = Ronaldo.drop([2021])\n",
        "X = Ronaldo['year']\n",
        "X = X.values.reshape(-1, 1)\n",
        "y = Ronaldo['player']\n",
        "lr = LinearRegression()\n",
        "pr = LinearRegression()\n",
        "quadratic = PolynomialFeatures(degree=2)\n",
        "X_quad = quadratic.fit_transform(X)\n",
        "lr.fit(X,y)\n",
        "X_fit = np.arange(2002, 2021)[:, np.newaxis]\n",
        "y_lin_fit= lr.predict(X_fit)\n",
        "pr.fit(X_quad, y)\n",
        "y_quad_fit = pr.predict(quadratic.fit_transform(X_fit))"
      ],
      "metadata": {
        "id": "tNqbsoaoRSFR"
      },
      "execution_count": null,
      "outputs": []
    },
    {
      "cell_type": "code",
      "source": [
        "plt.scatter(X, y, label = 'training points')\n",
        "plt.plot(X_fit, y_lin_fit, label='linear fit', linestyle='--')\n",
        "plt.plot(X_fit, y_quad_fit, label='quadratic fit')\n",
        "plt.legend(loc='upper left')\n",
        "plt.tight_layout()\n",
        "plt.show"
      ],
      "metadata": {
        "colab": {
          "base_uri": "https://localhost:8080/",
          "height": 314
        },
        "id": "Z88hFypRTn6H",
        "outputId": "65f19c63-9905-4bc8-a66a-b84e23fbdc57"
      },
      "execution_count": null,
      "outputs": [
        {
          "output_type": "execute_result",
          "data": {
            "text/plain": [
              "<function matplotlib.pyplot.show>"
            ]
          },
          "metadata": {},
          "execution_count": 141
        },
        {
          "output_type": "display_data",
          "data": {
            "image/png": "[encoded data removed]",
            "text/plain": [
              "<Figure size 432x288 with 1 Axes>"
            ]
          },
          "metadata": {
            "needs_background": "light"
          }
        }
      ]
    },
    {
      "cell_type": "code",
      "source": [
        "k =np.array([[2021]])\n",
        "pr.predict(quadratic.fit_transform(k))"
      ],
      "metadata": {
        "colab": {
          "base_uri": "https://localhost:8080/"
        },
        "id": "m_l35IRIhJof",
        "outputId": "0f86b4bd-b909-4039-f3a4-252f3a3c34ed"
      },
      "execution_count": null,
      "outputs": [
        {
          "output_type": "execute_result",
          "data": {
            "text/plain": [
              "array([27.70897833])"
            ]
          },
          "metadata": {},
          "execution_count": 145
        }
      ]
    },
    {
      "cell_type": "markdown",
      "source": [
        "**MESSI 비선형 회귀**"
      ],
      "metadata": {
        "id": "eV-X_BiKfNPx"
      }
    },
    {
      "cell_type": "code",
      "source": [
        "Messi = df_clean.loc[df_clean.player == 'Messi'].groupby(['Year']).count()\n",
        "Messi = pd.DataFrame(Messi)\n",
        "Messi['year'] = [2005, 2006, 2007, 2008, 2009, 2010, 2011, 2012, 2013, 2014, 2015, 2016, 2017, 2018, 2019, 2020]\n",
        "X = Messi['year']\n",
        "y = Messi['player']\n",
        "X = X.values.reshape(-1, 1)\n",
        "lr = LinearRegression()\n",
        "pr = LinearRegression()\n",
        "quadratic = PolynomialFeatures(degree=2)\n",
        "X_quad = quadratic.fit_transform(X)\n",
        "lr.fit(X,y)\n",
        "X_fit = np.arange(2005, 2021)[:, np.newaxis]\n",
        "y_lin_fit= lr.predict(X_fit)\n",
        "pr.fit(X_quad, y)\n",
        "y_quad_fit = pr.predict(quadratic.fit_transform(X_fit))"
      ],
      "metadata": {
        "id": "ySMavWo2Ukb-"
      },
      "execution_count": null,
      "outputs": []
    },
    {
      "cell_type": "code",
      "source": [
        "plt.scatter(X, y, label = 'training points')\n",
        "plt.plot(X_fit, y_lin_fit, label='linear fit', linestyle='--')\n",
        "plt.plot(X_fit, y_quad_fit, label='quadratic fit')\n",
        "plt.legend(loc='upper left')\n",
        "plt.tight_layout()\n",
        "plt.show"
      ],
      "metadata": {
        "colab": {
          "base_uri": "https://localhost:8080/",
          "height": 314
        },
        "id": "aavhGNaOe5go",
        "outputId": "9597bdca-eafe-44ea-eccd-df08039bfb92"
      },
      "execution_count": null,
      "outputs": [
        {
          "output_type": "execute_result",
          "data": {
            "text/plain": [
              "<function matplotlib.pyplot.show>"
            ]
          },
          "metadata": {},
          "execution_count": 157
        },
        {
          "output_type": "display_data",
          "data": {
            "image/png": "[encoded data removed]",
            "text/plain": [
              "<Figure size 432x288 with 1 Axes>"
            ]
          },
          "metadata": {
            "needs_background": "light"
          }
        }
      ]
    },
    {
      "cell_type": "code",
      "source": [
        "k =np.array([[2021]])\n",
        "pr.predict(quadratic.fit_transform(k))"
      ],
      "metadata": {
        "colab": {
          "base_uri": "https://localhost:8080/"
        },
        "id": "y1hT4tIPimg7",
        "outputId": "f43dd180-e4d6-437c-f243-1e979f45aa69"
      },
      "execution_count": null,
      "outputs": [
        {
          "output_type": "execute_result",
          "data": {
            "text/plain": [
              "array([19.72500003])"
            ]
          },
          "metadata": {},
          "execution_count": 158
        }
      ]
    },
    {
      "cell_type": "markdown",
      "source": [
        "선형회귀로 각 선수 예측할 경우 2021년도에는 호날두는 57골, 메시는 56골을 넣어야한다. \n",
        "비선형회귀로 예측 시 호날두는 27골, 메시는 19골을 넣어야한다.\n",
        "실제로 2021년도 각 선수가 넣은 골을 조사해본 결과 호날두는 30골, 메시는 13골을 넣었다. 비선형회귀에 결과가 더욱 정확한 것으로 보인다."
      ],
      "metadata": {
        "id": "GP4zh9lgjCa5"
      }
    }
  ]
}